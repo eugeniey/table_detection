{
 "cells": [
  {
   "cell_type": "code",
   "execution_count": 1,
   "metadata": {},
   "outputs": [],
   "source": [
    "import glob\n",
    "import ipywidgets as widgets\n",
    "from ipywidgets import interact, interact_manual\n",
    "from IPython.display import Image\n",
    "import time\n",
    "\n",
    "# importing required libraries\n",
    "import pandas as pd\n",
    "import matplotlib.patches as patches\n",
    "import matplotlib.pyplot as plt\n",
    "import pandas as pd\n",
    "from get_iou import get_max_iou, get_iou, get_overlap\n",
    "import pickle\n",
    "import random\n",
    "import json\n",
    "import os\n",
    "from collections import Counter\n",
    "import cv2\n",
    "import numpy as np\n",
    "\n",
    "from metric_tablebank import metric_table_bank_union"
   ]
  },
  {
   "cell_type": "code",
   "execution_count": 2,
   "metadata": {},
   "outputs": [],
   "source": [
    "path_data = \"/data/rali5/Tmp/yockelle/TableBank/TableBank/Detection/\""
   ]
  },
  {
   "cell_type": "code",
   "execution_count": 3,
   "metadata": {},
   "outputs": [],
   "source": [
    "def get_test_data_latex():\n",
    "    latex = pickle.load( open(path_data + \"annotations/COCO_tablebank_latex_test.pkl\", \"rb\" ) )\n",
    "    return latex\n",
    "\n",
    "def get_test_data_word():\n",
    "    word = pickle.load( open(path_data + \"annotations/COCO_tablebank_word_test.pkl\", \"rb\" ) )\n",
    "    return word\n",
    "\n",
    "def get_test_data_both():\n",
    "    latex = get_test_data_latex()\n",
    "    word = get_test_data_word()\n",
    "    total_test = latex + word\n",
    "    random.shuffle(total_test)\n",
    "    return total_test\n",
    "\n",
    "def get_test_data_publaynet():\n",
    "    test_publaynet = pickle.load( open(\"../PubLayNet/COCO_test_set_table_only.pkl\", \"rb\" ) )\n",
    "    for image in test_publaynet:\n",
    "        annotation_array = []\n",
    "        for annot in image[\"annotations\"]:\n",
    "            annot[\"category_id\"] = 0\n",
    "            annotation_array.append(annot)\n",
    "        image['categories'] = [{'supercategory': '', 'id': 0, 'name': 'table'}]\n",
    "        image[\"annotations\"] = annotation_array\n",
    "        image[\"file_name\"] = \"/data/rali5/Tmp/yockelle/PubLayNet/\" + image[\"file_name\"]\n",
    "    return test_publaynet"
   ]
  },
  {
   "cell_type": "code",
   "execution_count": 9,
   "metadata": {},
   "outputs": [],
   "source": [
    "test_data_latex = get_test_data_publaynet()"
   ]
  },
  {
   "cell_type": "code",
   "execution_count": 5,
   "metadata": {},
   "outputs": [
    {
     "data": {
      "text/plain": [
       "'\\ntest_latex_truth = {}\\n\\ntest_data = get_test_data_latex()\\n\\nthreshold = 0.975\\nprecision_tab = []\\ncount = 0\\n\\nrandom_count = 0\\n\\nall_image = []\\nall_annotations = []\\n\\nfor i, example in enumerate(test_data):\\n\\n  take_the_image = True\\n\\n  one_image = {}\\n  \\n  if i%1000 == 0:\\n    print(i)\\n\\n  only_name = example[\"file_name\"].split(\"/\")[-1]\\n  #image_name = \"/data/rali5/Tmp/yockelle/PubLayNet/\" + image_dict[\"file_name\"]\\n\\n  img = cv2.imread(example[\"file_name\"])\\n\\n  for annot in example[\"annotations\"]:\\n    #if scores_detectron[j]>threshold:\\n    p = annot[\"bbox\"]\\n    x1 = p[0]\\n    y1 = p[1]\\n    w = p[2]\\n    h = p[3]\\n    x2 = p[0] + w\\n    y2 = p[1] + h\\n    if y1 == y2 or y2<y1:\\n      break\\n      #cv2.rectangle(img, (x_min, y_max), (x_max, y_min), (255,0,0), 1)\\n      \\n    one_annotations = {}\\n    one_annotations[\"id\"] = count\\n    one_annotations[\"segmentation\"] = []\\n    one_annotations[\"area\"] = float(p[-1] * p[-2])\\n    one_annotations[\"iscrowd\"] = 0\\n    one_annotations[\"ignore\"] = 0\\n    one_annotations[\"image_id\"] = i\\n    one_annotations[\"bbox\"] = [float(pp) for pp in p]\\n    one_annotations[\"category_id\"] = 0\\n\\n    all_annotations.append(one_annotations)\\n    count += 1\\n\\n  one_image[\"id\"] = i\\n  one_image[\"file_name\"] = only_name\\n  one_image[\"width\"] = example[\"width\"]\\n  one_image[\"height\"] = example[\"height\"]\\n\\n  all_image.append(one_image)\\n  \\n\\ntest_latex_truth[\"images\"] = all_image\\ntest_latex_truth[\"annotations\"] = all_annotations\\ntest_latex_truth[\"categories\"] = [{\"id\": 0, \"name\": \"table\", \"supercategory\": \"none\"}]\\n\\nout_file = open(\"train_latex_test_latex_truth.json\", \"w\")\\njson.dump(test_latex_truth, out_file, indent = 6)\\nout_file.close()\\n'"
      ]
     },
     "execution_count": 5,
     "metadata": {},
     "output_type": "execute_result"
    }
   ],
   "source": [
    "\"\"\"\n",
    "test_latex_truth = {}\n",
    "\n",
    "test_data = get_test_data_latex()\n",
    "\n",
    "threshold = 0.975\n",
    "precision_tab = []\n",
    "count = 0\n",
    "\n",
    "random_count = 0\n",
    "\n",
    "all_image = []\n",
    "all_annotations = []\n",
    "\n",
    "for i, example in enumerate(test_data):\n",
    "\n",
    "  take_the_image = True\n",
    "\n",
    "  one_image = {}\n",
    "  \n",
    "  if i%1000 == 0:\n",
    "    print(i)\n",
    "\n",
    "  only_name = example[\"file_name\"].split(\"/\")[-1]\n",
    "  #image_name = \"/data/rali5/Tmp/yockelle/PubLayNet/\" + image_dict[\"file_name\"]\n",
    "\n",
    "  img = cv2.imread(example[\"file_name\"])\n",
    "\n",
    "  for annot in example[\"annotations\"]:\n",
    "    #if scores_detectron[j]>threshold:\n",
    "    p = annot[\"bbox\"]\n",
    "    x1 = p[0]\n",
    "    y1 = p[1]\n",
    "    w = p[2]\n",
    "    h = p[3]\n",
    "    x2 = p[0] + w\n",
    "    y2 = p[1] + h\n",
    "    if y1 == y2 or y2<y1:\n",
    "      break\n",
    "      #cv2.rectangle(img, (x_min, y_max), (x_max, y_min), (255,0,0), 1)\n",
    "      \n",
    "    one_annotations = {}\n",
    "    one_annotations[\"id\"] = count\n",
    "    one_annotations[\"segmentation\"] = []\n",
    "    one_annotations[\"area\"] = float(p[-1] * p[-2])\n",
    "    one_annotations[\"iscrowd\"] = 0\n",
    "    one_annotations[\"ignore\"] = 0\n",
    "    one_annotations[\"image_id\"] = i\n",
    "    one_annotations[\"bbox\"] = [float(pp) for pp in p]\n",
    "    one_annotations[\"category_id\"] = 0\n",
    "\n",
    "    all_annotations.append(one_annotations)\n",
    "    count += 1\n",
    "\n",
    "  one_image[\"id\"] = i\n",
    "  one_image[\"file_name\"] = only_name\n",
    "  one_image[\"width\"] = example[\"width\"]\n",
    "  one_image[\"height\"] = example[\"height\"]\n",
    "\n",
    "  all_image.append(one_image)\n",
    "  \n",
    "\n",
    "test_latex_truth[\"images\"] = all_image\n",
    "test_latex_truth[\"annotations\"] = all_annotations\n",
    "test_latex_truth[\"categories\"] = [{\"id\": 0, \"name\": \"table\", \"supercategory\": \"none\"}]\n",
    "\n",
    "out_file = open(\"train_latex_test_latex_truth.json\", \"w\")\n",
    "json.dump(test_latex_truth, out_file, indent = 6)\n",
    "out_file.close()\n",
    "\"\"\""
   ]
  },
  {
   "cell_type": "markdown",
   "metadata": {},
   "source": [
    "# Predictions"
   ]
  },
  {
   "cell_type": "code",
   "execution_count": 6,
   "metadata": {},
   "outputs": [],
   "source": [
    "out_file = open(\"train_latex_test_pln_preds_N.json\", \"r\")\n",
    "preds = json.loads(out_file.read())\n",
    "out_file.close() "
   ]
  },
  {
   "cell_type": "code",
   "execution_count": 7,
   "metadata": {},
   "outputs": [],
   "source": [
    "out_file = open(\"train_latex_test_pln_truth_N.json\", \"r\")\n",
    "truth = json.loads(out_file.read())\n",
    "out_file.close() "
   ]
  },
  {
   "cell_type": "code",
   "execution_count": null,
   "metadata": {},
   "outputs": [],
   "source": [
    "'/data/rali5/Tmp/yockelle/PubLayNet/data/publaynet/train/PMC4494570_00004.jpg'"
   ]
  },
  {
   "cell_type": "code",
   "execution_count": 15,
   "metadata": {},
   "outputs": [],
   "source": [
    "rearranged_preds = []\n",
    "\n",
    "for i, annot in enumerate(preds[\"annotations\"]):\n",
    "\n",
    "    current_id = annot[\"image_id\"]\n",
    "    image_name = [d for d in preds[\"images\"] if d[\"id\"] == current_id][0]['file_name']\n",
    "\n",
    "    if i == 0:\n",
    "        new_dict_one_image = {}\n",
    "        new_dict_one_image[\"image_id\"] = annot[\"image_id\"]\n",
    "        new_dict_one_image[\"image_name\"] = \"/data/rali5/Tmp/yockelle/PubLayNet/data/publaynet/train/\" + image_name\n",
    "        new_dict_one_image[\"bbox\"] = [annot[\"bbox\"]]\n",
    "    else:\n",
    "        if current_id == previous_id:\n",
    "            #if len(new_dict_one_image[\"bbox\"]) > 1:\n",
    "            new_dict_one_image[\"bbox\"].append(annot[\"bbox\"])\n",
    "        else:\n",
    "            # if we are at a new instance, we add the dict \n",
    "            rearranged_preds.append(new_dict_one_image)\n",
    "            new_dict_one_image = {}\n",
    "            new_dict_one_image[\"image_id\"] = annot[\"image_id\"]\n",
    "            new_dict_one_image[\"image_name\"] = \"/data/rali5/Tmp/yockelle/PubLayNet/data/publaynet/train/\" + image_name\n",
    "            new_dict_one_image[\"bbox\"] = [annot[\"bbox\"]]\n",
    "\n",
    "    previous_id = current_id"
   ]
  },
  {
   "cell_type": "code",
   "execution_count": 16,
   "metadata": {},
   "outputs": [
    {
     "name": "stdout",
     "output_type": "stream",
     "text": [
      "First\n",
      "Precision  0.587359651756573\n",
      "Recall  0.9810548902062716\n",
      "F1  0.7347956082382325\n"
     ]
    }
   ],
   "source": [
    "all_images_truth = preds[\"images\"]\n",
    "sum_numerator = 0\n",
    "sum_numerator_old = 0\n",
    "sum_denominator_precision = 0\n",
    "sum_denominator_recall = 0\n",
    "\n",
    "for annot in rearranged_preds:\n",
    "    id = annot[\"image_id\"]\n",
    "    matches = [d for d in truth[\"annotations\"] if d[\"image_id\"] == id]\n",
    "\n",
    "    #matches_name = [d for d in rearranged_preds[\"annotations\"] if d[\"image_id\"] == id]\n",
    "\n",
    "    bbox_ground_truth = []\n",
    "    for match in matches:\n",
    "        p = match[\"bbox\"]\n",
    "        x1 = p[0]\n",
    "        y1 = p[1]\n",
    "        w = p[2]\n",
    "        h = p[3]\n",
    "        x2 = x1 + w\n",
    "        y2 = y1 + h\n",
    "        bbox_ground_truth.append([x1,y1,x2,y2])\n",
    "\n",
    "\n",
    "    bbox_preds = []\n",
    "    for match in annot[\"bbox\"]:\n",
    "        p = match\n",
    "        x1 = p[0]\n",
    "        y1 = p[1]\n",
    "        w = p[2]\n",
    "        h = p[3]\n",
    "        x2 = x1 + w\n",
    "        y2 = y1 + h\n",
    "        bbox_preds.append([x1,y1,x2,y2])\n",
    "    \n",
    "    result = metric_table_bank_union(np.array(bbox_ground_truth), np.array(bbox_preds))\n",
    "    numerator, denominator_precision, denominator_recall, old_way_area_union = result\n",
    "\n",
    "    sum_numerator += numerator\n",
    "    sum_numerator_old += old_way_area_union\n",
    "    sum_denominator_precision += denominator_precision\n",
    "    sum_denominator_recall += denominator_recall\n",
    "\n",
    "\n",
    "precision = sum_numerator/sum_denominator_precision\n",
    "recall = sum_numerator/sum_denominator_recall\n",
    "f1 = (2 * precision * recall) / (precision + recall)\n",
    "\n",
    "print(\"First\")\n",
    "print(\"Precision \", precision)\n",
    "print(\"Recall \", recall)\n",
    "print(\"F1 \", f1)"
   ]
  }
 ],
 "metadata": {
  "interpreter": {
   "hash": "608c06b448c1de9fbfe61db40b999c2492eeda40b619a01541314540d82445de"
  },
  "kernelspec": {
   "display_name": "Python 3.8.8 64-bit ('base': conda)",
   "language": "python",
   "name": "python3"
  },
  "language_info": {
   "codemirror_mode": {
    "name": "ipython",
    "version": 3
   },
   "file_extension": ".py",
   "mimetype": "text/x-python",
   "name": "python",
   "nbconvert_exporter": "python",
   "pygments_lexer": "ipython3",
   "version": "3.8.8"
  },
  "orig_nbformat": 4
 },
 "nbformat": 4,
 "nbformat_minor": 2
}
