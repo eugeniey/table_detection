{
 "cells": [
  {
   "cell_type": "code",
   "execution_count": 1,
   "metadata": {},
   "outputs": [
    {
     "name": "stdout",
     "output_type": "stream",
     "text": [
      "1.9.1+cu111 True\n",
      "gcc (Gentoo 11.3.1_p20230120-r1 p7) 11.3.1 20230120\n",
      "Copyright (C) 2021 Free Software Foundation, Inc.\n",
      "This is free software; see the source for copying conditions.  There is NO\n",
      "warranty; not even for MERCHANTABILITY or FITNESS FOR A PARTICULAR PURPOSE.\n",
      "\n"
     ]
    }
   ],
   "source": [
    "#!pip install pyyaml==5.1\n",
    "import torch\n",
    "import torchvision\n",
    "print(torch.__version__, torch.cuda.is_available())\n",
    "!gcc --version"
   ]
  },
  {
   "cell_type": "code",
   "execution_count": 2,
   "metadata": {},
   "outputs": [],
   "source": [
    "#%matplotlib notebook\n",
    "import glob\n",
    "import ipywidgets as widgets\n",
    "from ipywidgets import interact, interact_manual\n",
    "from IPython.display import Image\n",
    "import time\n",
    "\n",
    "from shapely.geometry import Polygon\n",
    "\n",
    "# importing required libraries\n",
    "import pandas as pd\n",
    "import matplotlib.patches as patches\n",
    "import matplotlib.pyplot as plt\n",
    "import pandas as pd\n",
    "from ..utils.get_iou import get_max_iou, get_iou, get_overlap\n",
    "import pickle\n",
    "import random\n",
    "import json\n",
    "import os\n",
    "from collections import Counter\n",
    "import cv2\n",
    "import numpy as np\n",
    "\n",
    "import detectron2\n",
    "from detectron2.utils.logger import setup_logger\n",
    "setup_logger()\n",
    "# import some common detectron2 utilities\n",
    "from detectron2.engine import DefaultPredictor\n",
    "from detectron2.config import get_cfg\n",
    "from detectron2.utils.visualizer import Visualizer\n",
    "from detectron2.data import MetadataCatalog, DatasetCatalog\n",
    "from detectron2 import model_zoo\n",
    "from detectron2.structures import BoxMode\n",
    "from detectron2.utils.visualizer import ColorMode\n",
    "from detectron2.utils.visualizer import Visualizer\n",
    "from detectron2.data import DatasetCatalog\n",
    "from detectron2.structures import BoxMode\n",
    "from detectron2.engine import DefaultTrainer\n",
    "from detectron2.evaluation import COCOEvaluator\n",
    "from detectron2.engine import DefaultTrainer\n",
    "\n",
    "from os import path"
   ]
  },
  {
   "cell_type": "code",
   "execution_count": 3,
   "metadata": {},
   "outputs": [],
   "source": [
    "from ..utils.metric_tablebank_my_implementation import metric_table_bank_union\n",
    "from ..utils.get_models_and_set import get_model, evaluate_models, get_1k_test_set"
   ]
  },
  {
   "cell_type": "code",
   "execution_count": 12,
   "id": "527f3b84",
   "metadata": {},
   "outputs": [
    {
     "name": "stdout",
     "output_type": "stream",
     "text": [
      "218\n"
     ]
    }
   ],
   "source": [
    "import os.path\n",
    "from os import path\n",
    "\n",
    "path.exists(\"problematic_word_random.pkl\")\n",
    "with open('problematic_word.pkl', 'rb') as f:\n",
    "    interdit_word = pickle.load(f)\n",
    "print(len(interdit_word))"
   ]
  },
  {
   "cell_type": "markdown",
   "id": "d46d1b5b",
   "metadata": {},
   "source": [
    "# Tablebank trained model with 1k data"
   ]
  },
  {
   "cell_type": "code",
   "execution_count": 6,
   "id": "69b2564d",
   "metadata": {},
   "outputs": [],
   "source": [
    "thres = 0.90"
   ]
  },
  {
   "cell_type": "markdown",
   "id": "d03d2a38",
   "metadata": {},
   "source": [
    "### word"
   ]
  },
  {
   "cell_type": "code",
   "execution_count": 8,
   "id": "bac17044",
   "metadata": {},
   "outputs": [
    {
     "name": "stdout",
     "output_type": "stream",
     "text": [
      "WORD \n",
      "\n",
      "X101\n",
      "train: word, test: word\n",
      "./output/word/ model_final.pth\n",
      "TableBank/Detection/images/bedrijfseconomie_h3_6.jpg\n",
      "1000\n",
      "Precision:  83.48875854793431\n",
      "Recall:  97.0520639970245\n",
      "F1:  89.76093299462478\n",
      "-----\n",
      "train: word, test: latex\n",
      "./output/word/ model_final.pth\n",
      "TableBank/Detection/images/1507.06442_5.jpg\n",
      "1000\n",
      "Precision:  90.1130116447501\n",
      "Recall:  87.31094566698755\n",
      "F1:  88.68985206749063\n",
      "-----\n",
      "train: word, test: word-latex\n",
      "./output/word/ model_final.pth\n",
      "TableBank/Detection/images/bedrijfseconomie_h3_6.jpg\n",
      "2000\n",
      "Precision:  85.2895155906683\n",
      "Recall:  94.03866497506182\n",
      "F1:  89.4506614321709\n"
     ]
    }
   ],
   "source": [
    "print(\"WORD \\n\")\n",
    "\n",
    "print(\"X101\")\n",
    "print(\"train: word, test: word\")\n",
    "precision, recall, f1 = evaluate_models(\"word\", \"word\", \"X101\", threshold=thres, take_the_table_bank_model = False)\n",
    "print(\"Precision: \", precision*100)\n",
    "print(\"Recall: \", recall*100)\n",
    "print(\"F1: \", f1*100)\n",
    "\n",
    "print(\"-----\")\n",
    "print(\"train: word, test: latex\")\n",
    "precision, recall, f1 = evaluate_models(\"word\", \"latex\", \"X101\", threshold=thres, take_the_table_bank_model = False)\n",
    "print(\"Precision: \", precision*100)\n",
    "print(\"Recall: \", recall*100)\n",
    "print(\"F1: \", f1*100)\n",
    "\n",
    "print(\"-----\")\n",
    "print(\"train: word, test: word-latex\")\n",
    "precision, recall, f1 = evaluate_models(\"word\", \"word-latex\", \"X101\", threshold=thres, take_the_table_bank_model = False)\n",
    "print(\"Precision: \", precision*100)\n",
    "print(\"Recall: \", recall*100)\n",
    "print(\"F1: \", f1*100)"
   ]
  },
  {
   "cell_type": "code",
   "execution_count": 10,
   "id": "22091949",
   "metadata": {},
   "outputs": [
    {
     "name": "stdout",
     "output_type": "stream",
     "text": [
      "train: word, test: publaynet\n",
      "./output/word/ model_final.pth\n",
      "/data/rali5/Tmp/yockelle/PubLayNet/data/publaynet/val/PMC5134224_00005.jpg\n",
      "1000\n",
      "Precision:  91.54\n",
      "Recall:  81.05\n",
      "F1:  85.98\n"
     ]
    }
   ],
   "source": [
    "print(\"train: word, test: publaynet\")\n",
    "precision, recall, f1 = evaluate_models(\"word\", \"publaynet\", \"X101\", threshold=thres, take_the_table_bank_model = False)\n",
    "print(\"Precision: \", \"{:.2f}\".format(precision*100, 2))\n",
    "print(\"Recall: \", \"{:.2f}\".format(recall*100, 2))\n",
    "print(\"F1: \", \"{:.2f}\".format(f1*100, 2))"
   ]
  },
  {
   "cell_type": "code",
   "execution_count": 12,
   "id": "50c69a05",
   "metadata": {},
   "outputs": [
    {
     "name": "stdout",
     "output_type": "stream",
     "text": [
      "./output/word/ model_final.pth\n",
      "TableBank/Detection/images/bedrijfseconomie_h3_6.jpg\n",
      "2000\n",
      "Precision:  86.70022955247016\n",
      "Recall:  89.54481997005918\n",
      "F1:  88.09956895437601\n",
      "-----\n",
      "./output/word/ model_final.pth\n",
      "TableBank/Detection/images/1507.06442_5.jpg\n",
      "2000\n",
      "Precision:  91.02362753994001\n",
      "Recall:  83.15328375872393\n",
      "F1:  86.91064129158305\n",
      "-----\n",
      "./output/word/ model_final.pth\n",
      "TableBank/Detection/images/bedrijfseconomie_h3_6.jpg\n",
      "3000\n",
      "Precision:  87.32254340790944\n",
      "Recall:  89.11544584853365\n",
      "F1:  88.2098851978343\n"
     ]
    }
   ],
   "source": [
    "precision, recall, f1 = evaluate_models(\"word\", \"word-publaynet\", \"X101\", threshold=thres, take_the_table_bank_model = False)\n",
    "print(\"Precision: \", precision*100)\n",
    "print(\"Recall: \", recall*100)\n",
    "print(\"F1: \", f1*100)\n",
    "\n",
    "print(\"-----\")\n",
    "precision, recall, f1 = evaluate_models(\"word\", \"latex-publaynet\", \"X101\", threshold=thres, take_the_table_bank_model = False)\n",
    "print(\"Precision: \", precision*100)\n",
    "print(\"Recall: \", recall*100)\n",
    "print(\"F1: \", f1*100)\n",
    "\n",
    "print(\"-----\")\n",
    "precision, recall, f1 = evaluate_models(\"word\", \"word-latex-publaynet\", \"X101\", threshold=thres, take_the_table_bank_model = False)\n",
    "print(\"Precision: \", precision*100)\n",
    "print(\"Recall: \", recall*100)\n",
    "print(\"F1: \", f1*100)"
   ]
  },
  {
   "cell_type": "markdown",
   "id": "e89ac153",
   "metadata": {},
   "source": [
    "### latex"
   ]
  },
  {
   "cell_type": "code",
   "execution_count": 13,
   "id": "61187422",
   "metadata": {},
   "outputs": [
    {
     "name": "stdout",
     "output_type": "stream",
     "text": [
      "./output/latex/ model_final.pth\n",
      "TableBank/Detection/images/bedrijfseconomie_h3_6.jpg\n",
      "2000\n",
      "Precision:  82.99813664682169\n",
      "Recall:  94.27784471921355\n",
      "F1:  88.27913830714026\n",
      "-----\n",
      "./output/latex/ model_final.pth\n",
      "TableBank/Detection/images/1507.06442_5.jpg\n",
      "2000\n",
      "Precision:  91.75279039860825\n",
      "Recall:  94.50080548958091\n",
      "F1:  93.10652561886992\n",
      "-----\n",
      "./output/latex/ model_final.pth\n",
      "TableBank/Detection/images/bedrijfseconomie_h3_6.jpg\n",
      "3000\n",
      "Precision:  85.275764685962\n",
      "Recall:  94.52508722052563\n",
      "F1:  89.66252394543554\n"
     ]
    }
   ],
   "source": [
    "precision, recall, f1 = evaluate_models(\"latex\", \"word-publaynet\", \"X101\", threshold=thres, take_the_table_bank_model = False)\n",
    "print(\"Precision: \", precision*100)\n",
    "print(\"Recall: \", recall*100)\n",
    "print(\"F1: \", f1*100)\n",
    "\n",
    "print(\"-----\")\n",
    "precision, recall, f1 = evaluate_models(\"latex\", \"latex-publaynet\", \"X101\", threshold=thres, take_the_table_bank_model = False)\n",
    "print(\"Precision: \", precision*100)\n",
    "print(\"Recall: \", recall*100)\n",
    "print(\"F1: \", f1*100)\n",
    "\n",
    "print(\"-----\")\n",
    "precision, recall, f1 = evaluate_models(\"latex\", \"word-latex-publaynet\", \"X101\", threshold=thres, take_the_table_bank_model = False)\n",
    "print(\"Precision: \", precision*100)\n",
    "print(\"Recall: \", recall*100)\n",
    "print(\"F1: \", f1*100)"
   ]
  },
  {
   "cell_type": "code",
   "execution_count": null,
   "id": "4d43e720",
   "metadata": {},
   "outputs": [],
   "source": [
    "print(\"LATEX \\n\")\n",
    "\n",
    "print(\"X101\")\n",
    "print(\"train: latex, test: word\")\n",
    "precision, recall, f1 = evaluate_models(\"latex\", \"word\", \"X101\", threshold=thres, take_the_table_bank_model = False)\n",
    "print(\"Precision: \", precision*100)\n",
    "print(\"Recall: \", recall*100)\n",
    "print(\"F1: \", f1*100)\n",
    "\n",
    "print(\"-----\")\n",
    "print(\"train: latex, test: latex\")\n",
    "precision, recall, f1 = evaluate_models(\"latex\", \"latex\", \"X101\", threshold=thres, take_the_table_bank_model = False)\n",
    "print(\"Precision: \", precision*100)\n",
    "print(\"Recall: \", recall*100)\n",
    "print(\"F1: \", f1*100)\n",
    "\n",
    "print(\"-----\")\n",
    "print(\"train: latex, test: word-latex\")\n",
    "precision, recall, f1 = evaluate_models(\"latex\", \"word-latex\", \"X101\", threshold=thres, take_the_table_bank_model = False)\n",
    "print(\"Precision: \", precision*100)\n",
    "print(\"Recall: \", recall*100)\n",
    "print(\"F1: \", f1*100)\n",
    "\n",
    "print(\"-------------------------\")\n",
    "\n",
    "print(\"X152\")\n",
    "print(\"train: latex, test: word\")\n",
    "precision, recall, f1 = evaluate_models(\"latex\", \"word\", \"X152\", threshold=thres, take_the_table_bank_model = False)\n",
    "print(\"Precision: \", precision*100)\n",
    "print(\"Recall: \", recall*100)\n",
    "print(\"F1: \", f1*100)\n",
    "\n",
    "print(\"-----\")\n",
    "print(\"train: latex, test: latex\")\n",
    "precision, recall, f1 = evaluate_models(\"latex\", \"latex\", \"X152\", threshold=thres, take_the_table_bank_model = False)\n",
    "print(\"Precision: \", precision*100)\n",
    "print(\"Recall: \", recall*100)\n",
    "print(\"F1: \", f1*100)\n",
    "\n",
    "print(\"-----\")\n",
    "print(\"train: latex, test: word-latex\")\n",
    "precision, recall, f1 = evaluate_models(\"latex\", \"word-latex\", \"X152\", threshold=thres, take_the_table_bank_model = False)\n",
    "print(\"Precision: \", precision*100)\n",
    "print(\"Recall: \", recall*100)\n",
    "print(\"F1: \", f1*100)"
   ]
  },
  {
   "cell_type": "code",
   "execution_count": 7,
   "id": "68504e81",
   "metadata": {},
   "outputs": [
    {
     "name": "stdout",
     "output_type": "stream",
     "text": [
      "-----\n",
      "train: latex, test: word-latex\n",
      "./output/latex/ model_final.pth\n",
      "TableBank/Detection/images/bedrijfseconomie_h3_6.jpg\n",
      "2000\n"
     ]
    },
    {
     "name": "stderr",
     "output_type": "stream",
     "text": [
      "/u/yockelle/anaconda3/lib/python3.8/site-packages/torch/_tensor.py:575: UserWarning: floor_divide is deprecated, and will be removed in a future version of pytorch. It currently rounds toward 0 (like the 'trunc' function NOT 'floor'). This results in incorrect rounding for negative values.\n",
      "To keep the current behavior, use torch.div(a, b, rounding_mode='trunc'), or for actual floor division, use torch.div(a, b, rounding_mode='floor'). (Triggered internally at  ../aten/src/ATen/native/BinaryOps.cpp:467.)\n",
      "  return torch.floor_divide(self, other)\n"
     ]
    },
    {
     "name": "stdout",
     "output_type": "stream",
     "text": [
      "Precision:  82.85843992935187\n",
      "Recall:  94.86896941423213\n",
      "F1:  88.45787864011811\n"
     ]
    }
   ],
   "source": [
    "print(\"-----\")\n",
    "print(\"train: latex, test: word-latex\")\n",
    "precision, recall, f1 = evaluate_models(\"latex\", \"word-latex\", \"X152\", threshold=thres, take_the_table_bank_model = False)\n",
    "print(\"Precision: \", precision*100)\n",
    "print(\"Recall: \", recall*100)\n",
    "print(\"F1: \", f1*100)"
   ]
  },
  {
   "cell_type": "code",
   "execution_count": 8,
   "id": "2f399bcf",
   "metadata": {},
   "outputs": [
    {
     "name": "stdout",
     "output_type": "stream",
     "text": [
      "train: latex, test: publaynet\n",
      "./output/latex/ model_final.pth\n",
      "/data/rali5/Tmp/yockelle/PubLayNet/data/publaynet/val/PMC5134224_00005.jpg\n",
      "1000\n",
      "Precision:  89.60301751608381\n",
      "Recall:  93.96128621464625\n",
      "F1:  91.730413848597\n",
      "train: latex, test: word-latex-publaynet\n",
      "./output/latex/ model_final.pth\n",
      "TableBank/Detection/images/bedrijfseconomie_h3_6.jpg\n",
      "3000\n",
      "Precision:  85.275764685962\n",
      "Recall:  94.52508722052563\n",
      "F1:  89.66252394543554\n"
     ]
    }
   ],
   "source": [
    "print(\"train: latex, test: publaynet\")\n",
    "precision, recall, f1 = evaluate_models(\"latex\", \"publaynet\", \"X101\", threshold=thres, take_the_table_bank_model = False)\n",
    "print(\"Precision: \", precision*100)\n",
    "print(\"Recall: \", recall*100)\n",
    "print(\"F1: \", f1*100)\n",
    "\n",
    "print(\"train: latex, test: word-latex-publaynet\")\n",
    "precision, recall, f1 = evaluate_models(\"latex\", \"word-latex-publaynet\", \"X101\", threshold=thres, take_the_table_bank_model = False)\n",
    "print(\"Precision: \", precision*100)\n",
    "print(\"Recall: \", recall*100)\n",
    "print(\"F1: \", f1*100)"
   ]
  },
  {
   "cell_type": "markdown",
   "id": "152eb153",
   "metadata": {},
   "source": [
    "### word-latex"
   ]
  },
  {
   "cell_type": "code",
   "execution_count": null,
   "id": "e998148c",
   "metadata": {},
   "outputs": [],
   "source": [
    "print(\"WORD-LATEX \\n\")\n",
    "\n",
    "print(\"X101\")\n",
    "print(\"train: word-latex, test: word\")\n",
    "precision, recall, f1 = evaluate_models(\"word-latex\", \"word\", \"X101\", threshold=thres, take_the_table_bank_model = False)\n",
    "print(\"Precision: \", precision*100)\n",
    "print(\"Recall: \", recall*100)\n",
    "print(\"F1: \", f1*100)\n",
    "\n",
    "print(\"-----\")\n",
    "print(\"train: word-latex, test: latex\")\n",
    "precision, recall, f1 = evaluate_models(\"word-latex\", \"latex\", \"X101\", threshold=thres, take_the_table_bank_model = False)\n",
    "print(\"Precision: \", precision*100)\n",
    "print(\"Recall: \", recall*100)\n",
    "print(\"F1: \", f1*100)\n",
    "\n",
    "print(\"-----\")\n",
    "print(\"train: word-latex, test: word-latex\")\n",
    "precision, recall, f1 = evaluate_models(\"word-latex\", \"word-latex\", \"X101\", threshold=thres, take_the_table_bank_model = False)\n",
    "print(\"Precision: \", precision*100)\n",
    "print(\"Recall: \", recall*100)\n",
    "print(\"F1: \", f1*100)\n",
    "\n",
    "print(\"-------------------------\")\n",
    "\n",
    "print(\"X152\")\n",
    "print(\"train: word-latex, test: word\")\n",
    "precision, recall, f1 = evaluate_models(\"word-latex\", \"word\", \"X152\", threshold=thres, take_the_table_bank_model = False)\n",
    "print(\"Precision: \", precision*100)\n",
    "print(\"Recall: \", recall*100)\n",
    "print(\"F1: \", f1*100)\n",
    "\n",
    "print(\"-----\")\n",
    "print(\"train: word-latex, test: latex\")\n",
    "precision, recall, f1 = evaluate_models(\"word-latex\", \"latex\", \"X152\", threshold=thres, take_the_table_bank_model = False)\n",
    "print(\"Precision: \", precision*100)\n",
    "print(\"Recall: \", recall*100)\n",
    "print(\"F1: \", f1*100)\n",
    "\n",
    "print(\"-----\")\n",
    "print(\"train: word-latex, test: word-latex\")\n",
    "precision, recall, f1 = evaluate_models(\"word-latex\", \"word-latex\", \"X152\", threshold=thres, take_the_table_bank_model = False)\n",
    "print(\"Precision: \", precision*100)\n",
    "print(\"Recall: \", recall*100)\n",
    "print(\"F1: \", f1*100)\n"
   ]
  },
  {
   "cell_type": "code",
   "execution_count": 6,
   "id": "aea11d22",
   "metadata": {},
   "outputs": [
    {
     "name": "stdout",
     "output_type": "stream",
     "text": [
      "train: word-latex, test: word-latex\n",
      "./output/word-latex/ model_final.pth\n"
     ]
    },
    {
     "ename": "FileNotFoundError",
     "evalue": "[Errno 2] No such file or directory: '/data/rali5/Tmp/yockelle/TableBank/TableBank/test_data_word_1k.json'",
     "output_type": "error",
     "traceback": [
      "\u001b[0;31m---------------------------------------------------------------------------\u001b[0m",
      "\u001b[0;31mFileNotFoundError\u001b[0m                         Traceback (most recent call last)",
      "\u001b[0;32m<ipython-input-6-6d677a4cf0e7>\u001b[0m in \u001b[0;36m<module>\u001b[0;34m\u001b[0m\n\u001b[1;32m      1\u001b[0m \u001b[0mprint\u001b[0m\u001b[0;34m(\u001b[0m\u001b[0;34m\"train: word-latex, test: word-latex\"\u001b[0m\u001b[0;34m)\u001b[0m\u001b[0;34m\u001b[0m\u001b[0;34m\u001b[0m\u001b[0m\n\u001b[0;32m----> 2\u001b[0;31m \u001b[0mprecision\u001b[0m\u001b[0;34m,\u001b[0m \u001b[0mrecall\u001b[0m\u001b[0;34m,\u001b[0m \u001b[0mf1\u001b[0m \u001b[0;34m=\u001b[0m \u001b[0mevaluate_models\u001b[0m\u001b[0;34m(\u001b[0m\u001b[0;34m\"word-latex\"\u001b[0m\u001b[0;34m,\u001b[0m \u001b[0;34m\"word-latex\"\u001b[0m\u001b[0;34m,\u001b[0m \u001b[0;34m\"X152\"\u001b[0m\u001b[0;34m,\u001b[0m \u001b[0mthreshold\u001b[0m\u001b[0;34m=\u001b[0m\u001b[0mthres\u001b[0m\u001b[0;34m,\u001b[0m \u001b[0mtake_the_table_bank_model\u001b[0m \u001b[0;34m=\u001b[0m \u001b[0;32mFalse\u001b[0m\u001b[0;34m)\u001b[0m\u001b[0;34m\u001b[0m\u001b[0;34m\u001b[0m\u001b[0m\n\u001b[0m\u001b[1;32m      3\u001b[0m \u001b[0mprint\u001b[0m\u001b[0;34m(\u001b[0m\u001b[0;34m\"Precision: \"\u001b[0m\u001b[0;34m,\u001b[0m \u001b[0mprecision\u001b[0m\u001b[0;34m*\u001b[0m\u001b[0;36m100\u001b[0m\u001b[0;34m)\u001b[0m\u001b[0;34m\u001b[0m\u001b[0;34m\u001b[0m\u001b[0m\n\u001b[1;32m      4\u001b[0m \u001b[0mprint\u001b[0m\u001b[0;34m(\u001b[0m\u001b[0;34m\"Recall: \"\u001b[0m\u001b[0;34m,\u001b[0m \u001b[0mrecall\u001b[0m\u001b[0;34m*\u001b[0m\u001b[0;36m100\u001b[0m\u001b[0;34m)\u001b[0m\u001b[0;34m\u001b[0m\u001b[0;34m\u001b[0m\u001b[0m\n\u001b[1;32m      5\u001b[0m \u001b[0mprint\u001b[0m\u001b[0;34m(\u001b[0m\u001b[0;34m\"F1: \"\u001b[0m\u001b[0;34m,\u001b[0m \u001b[0mf1\u001b[0m\u001b[0;34m*\u001b[0m\u001b[0;36m100\u001b[0m\u001b[0;34m)\u001b[0m\u001b[0;34m\u001b[0m\u001b[0;34m\u001b[0m\u001b[0m\n",
      "\u001b[0;32m~/TableBank/get_models_and_set.py\u001b[0m in \u001b[0;36mevaluate_models\u001b[0;34m(train_type_name, test_type_name, size_model, threshold, take_the_table_bank_model, take_only_1k)\u001b[0m\n\u001b[1;32m    126\u001b[0m     \u001b[0;32mif\u001b[0m \u001b[0;34m\"word\"\u001b[0m \u001b[0;32min\u001b[0m \u001b[0mtest_type_name\u001b[0m\u001b[0;34m:\u001b[0m\u001b[0;34m\u001b[0m\u001b[0;34m\u001b[0m\u001b[0m\n\u001b[1;32m    127\u001b[0m         \u001b[0;32mif\u001b[0m \u001b[0mtake_only_1k\u001b[0m \u001b[0;34m==\u001b[0m \u001b[0;34m\"true\"\u001b[0m\u001b[0;34m:\u001b[0m\u001b[0;34m\u001b[0m\u001b[0;34m\u001b[0m\u001b[0m\n\u001b[0;32m--> 128\u001b[0;31m             \u001b[0mtest_data\u001b[0m\u001b[0;34m.\u001b[0m\u001b[0mextend\u001b[0m\u001b[0;34m(\u001b[0m\u001b[0mget_1k_test_set\u001b[0m\u001b[0;34m(\u001b[0m\u001b[0;34m\"word\"\u001b[0m\u001b[0;34m)\u001b[0m\u001b[0;34m)\u001b[0m\u001b[0;34m\u001b[0m\u001b[0;34m\u001b[0m\u001b[0m\n\u001b[0m\u001b[1;32m    129\u001b[0m         \u001b[0;32melif\u001b[0m \u001b[0mtake_only_1k\u001b[0m \u001b[0;34m==\u001b[0m \u001b[0;34m\"random\"\u001b[0m\u001b[0;34m:\u001b[0m\u001b[0;34m\u001b[0m\u001b[0;34m\u001b[0m\u001b[0m\n\u001b[1;32m    130\u001b[0m             \u001b[0mword\u001b[0m \u001b[0;34m=\u001b[0m \u001b[0mget_test_data_word\u001b[0m\u001b[0;34m(\u001b[0m\u001b[0;34m)\u001b[0m\u001b[0;34m\u001b[0m\u001b[0;34m\u001b[0m\u001b[0m\n",
      "\u001b[0;32m~/TableBank/get_models_and_set.py\u001b[0m in \u001b[0;36mget_1k_test_set\u001b[0;34m(type_data)\u001b[0m\n\u001b[1;32m     54\u001b[0m     \u001b[0mdata\u001b[0m \u001b[0;34m=\u001b[0m \u001b[0;32mNone\u001b[0m\u001b[0;34m\u001b[0m\u001b[0;34m\u001b[0m\u001b[0m\n\u001b[1;32m     55\u001b[0m     \u001b[0;32mif\u001b[0m \u001b[0mtype_data\u001b[0m \u001b[0;34m==\u001b[0m \u001b[0;34m\"word\"\u001b[0m\u001b[0;34m:\u001b[0m\u001b[0;34m\u001b[0m\u001b[0;34m\u001b[0m\u001b[0m\n\u001b[0;32m---> 56\u001b[0;31m         \u001b[0mf\u001b[0m \u001b[0;34m=\u001b[0m \u001b[0mopen\u001b[0m\u001b[0;34m(\u001b[0m\u001b[0mpath_data\u001b[0m \u001b[0;34m+\u001b[0m \u001b[0;34m\"test_data_word_1k.json\"\u001b[0m\u001b[0;34m,\u001b[0m\u001b[0;34m)\u001b[0m\u001b[0;34m\u001b[0m\u001b[0;34m\u001b[0m\u001b[0m\n\u001b[0m\u001b[1;32m     57\u001b[0m         \u001b[0mdata\u001b[0m \u001b[0;34m=\u001b[0m \u001b[0mjson\u001b[0m\u001b[0;34m.\u001b[0m\u001b[0mload\u001b[0m\u001b[0;34m(\u001b[0m\u001b[0mf\u001b[0m\u001b[0;34m)\u001b[0m\u001b[0;34m\u001b[0m\u001b[0;34m\u001b[0m\u001b[0m\n\u001b[1;32m     58\u001b[0m     \u001b[0;32melif\u001b[0m \u001b[0mtype_data\u001b[0m \u001b[0;34m==\u001b[0m \u001b[0;34m\"latex\"\u001b[0m\u001b[0;34m:\u001b[0m\u001b[0;34m\u001b[0m\u001b[0;34m\u001b[0m\u001b[0m\n",
      "\u001b[0;31mFileNotFoundError\u001b[0m: [Errno 2] No such file or directory: '/data/rali5/Tmp/yockelle/TableBank/TableBank/test_data_word_1k.json'"
     ]
    }
   ],
   "source": [
    "print(\"train: word-latex, test: word-latex\")\n",
    "precision, recall, f1 = evaluate_models(\"word-latex\", \"word-latex\", \"X152\", threshold=thres, take_the_table_bank_model = False)\n",
    "print(\"Precision: \", precision*100)\n",
    "print(\"Recall: \", recall*100)\n",
    "print(\"F1: \", f1*100)"
   ]
  },
  {
   "cell_type": "code",
   "execution_count": 15,
   "id": "3ada84d9",
   "metadata": {},
   "outputs": [
    {
     "name": "stdout",
     "output_type": "stream",
     "text": [
      "./output/word-latex/ model_final.pth\n",
      "/data/rali5/Tmp/yockelle/PubLayNet/data/publaynet/val/PMC5134224_00005.jpg\n",
      "1000\n",
      "Precision:  91.21175324736782\n",
      "Recall:  88.47197066895758\n",
      "F1:  89.82097412143115\n",
      "./output/word-latex/ model_final.pth\n",
      "TableBank/Detection/images/bedrijfseconomie_h3_6.jpg\n",
      "2000\n",
      "Precision:  85.27370398300906\n",
      "Recall:  92.3065622429019\n",
      "F1:  88.65086905970527\n",
      "-----\n",
      "./output/word-latex/ model_final.pth\n",
      "TableBank/Detection/images/1507.06442_5.jpg\n",
      "2000\n",
      "Precision:  92.19060609574262\n",
      "Recall:  90.26398865709875\n",
      "F1:  91.2171253805882\n",
      "-----\n",
      "./output/word-latex/ model_final.pth\n",
      "TableBank/Detection/images/bedrijfseconomie_h3_6.jpg\n",
      "3000\n",
      "Precision:  86.8542330561482\n",
      "Recall:  92.5930013230635\n",
      "F1:  89.63185355408568\n"
     ]
    }
   ],
   "source": [
    "precision, recall, f1 = evaluate_models(\"word-latex\", \"publaynet\", \"X101\", threshold=thres, take_the_table_bank_model = False)\n",
    "print(\"Precision: \", precision*100)\n",
    "print(\"Recall: \", recall*100)\n",
    "print(\"F1: \", f1*100)\n",
    "\n",
    "\n",
    "precision, recall, f1 = evaluate_models(\"word-latex\", \"word-publaynet\", \"X101\", threshold=thres, take_the_table_bank_model = False)\n",
    "print(\"Precision: \", precision*100)\n",
    "print(\"Recall: \", recall*100)\n",
    "print(\"F1: \", f1*100)\n",
    "\n",
    "print(\"-----\")\n",
    "precision, recall, f1 = evaluate_models(\"word-latex\", \"latex-publaynet\", \"X101\", threshold=thres, take_the_table_bank_model = False)\n",
    "print(\"Precision: \", precision*100)\n",
    "print(\"Recall: \", recall*100)\n",
    "print(\"F1: \", f1*100)\n",
    "\n",
    "print(\"-----\")\n",
    "precision, recall, f1 = evaluate_models(\"word-latex\", \"word-latex-publaynet\", \"X101\", threshold=thres, take_the_table_bank_model = False)\n",
    "print(\"Precision: \", precision*100)\n",
    "print(\"Recall: \", recall*100)\n",
    "print(\"F1: \", f1*100)"
   ]
  },
  {
   "cell_type": "code",
   "execution_count": 16,
   "id": "c99f5c57",
   "metadata": {},
   "outputs": [
    {
     "name": "stdout",
     "output_type": "stream",
     "text": [
      "train: word-latex, test: word-latex\n",
      "./output/word-latex/ model_final.pth\n",
      "TableBank/Detection/images/bedrijfseconomie_h3_6.jpg\n",
      "2000\n",
      "Precision:  84.56208154250153\n",
      "Recall:  95.10656381565772\n",
      "F1:  89.52490278506512\n"
     ]
    }
   ],
   "source": [
    "print(\"train: word-latex, test: word-latex\")\n",
    "precision, recall, f1 = evaluate_models(\"word-latex\", \"word-latex\", \"X152\", threshold=thres, take_the_table_bank_model = False)\n",
    "print(\"Precision: \", precision*100)\n",
    "print(\"Recall: \", recall*100)\n",
    "print(\"F1: \", f1*100)"
   ]
  },
  {
   "cell_type": "code",
   "execution_count": 17,
   "id": "bd83e797",
   "metadata": {},
   "outputs": [
    {
     "name": "stdout",
     "output_type": "stream",
     "text": [
      "train: word-latex, test: word-latex-publaynet\n",
      "./output/word-latex/ model_final.pth\n",
      "TableBank/Detection/images/bedrijfseconomie_h3_6.jpg\n",
      "3000\n",
      "Precision:  86.8542330561482\n",
      "Recall:  92.5930013230635\n",
      "F1:  89.63185355408568\n"
     ]
    }
   ],
   "source": [
    "print(\"train: word-latex, test: word-latex-publaynet\")\n",
    "precision, recall, f1 = evaluate_models(\"word-latex\", \"word-latex-publaynet\", \"X152\", threshold=thres, take_the_table_bank_model = False)\n",
    "print(\"Precision: \", precision*100)\n",
    "print(\"Recall: \", recall*100)\n",
    "print(\"F1: \", f1*100)"
   ]
  },
  {
   "attachments": {},
   "cell_type": "markdown",
   "id": "4d98fc6e",
   "metadata": {},
   "source": [
    "### pubLayNet"
   ]
  },
  {
   "cell_type": "code",
   "execution_count": 14,
   "id": "2ac35ed0",
   "metadata": {},
   "outputs": [
    {
     "name": "stdout",
     "output_type": "stream",
     "text": [
      "./output/publaynet/ model_final.pth\n",
      "TableBank/Detection/images/bedrijfseconomie_h3_6.jpg\n",
      "2000\n",
      "Precision:  90.69534159638876\n",
      "Recall:  87.85384623473536\n",
      "F1:  89.25198363100021\n",
      "-----\n",
      "./output/publaynet/ model_final.pth\n",
      "TableBank/Detection/images/1507.06442_5.jpg\n",
      "2000\n",
      "Precision:  97.5524403979438\n",
      "Recall:  93.6533177829543\n",
      "F1:  95.56312307757747\n",
      "-----\n",
      "./output/publaynet/ model_final.pth\n",
      "TableBank/Detection/images/bedrijfseconomie_h3_6.jpg\n",
      "3000\n",
      "Precision:  91.97501705280784\n",
      "Recall:  88.05653521250427\n",
      "F1:  89.97313221902095\n"
     ]
    }
   ],
   "source": [
    "precision, recall, f1 = evaluate_models(\"publaynet\", \"word-publaynet\", \"X101\", threshold=thres, take_the_table_bank_model = False)\n",
    "print(\"Precision: \", precision*100)\n",
    "print(\"Recall: \", recall*100)\n",
    "print(\"F1: \", f1*100)\n",
    "\n",
    "print(\"-----\")\n",
    "precision, recall, f1 = evaluate_models(\"publaynet\", \"latex-publaynet\", \"X101\", threshold=thres, take_the_table_bank_model = False)\n",
    "print(\"Precision: \", precision*100)\n",
    "print(\"Recall: \", recall*100)\n",
    "print(\"F1: \", f1*100)\n",
    "\n",
    "print(\"-----\")\n",
    "precision, recall, f1 = evaluate_models(\"publaynet\", \"word-latex-publaynet\", \"X101\", threshold=thres, take_the_table_bank_model = False)\n",
    "print(\"Precision: \", precision*100)\n",
    "print(\"Recall: \", recall*100)\n",
    "print(\"F1: \", f1*100)"
   ]
  },
  {
   "cell_type": "code",
   "execution_count": 6,
   "id": "4b1fa1aa",
   "metadata": {},
   "outputs": [
    {
     "name": "stdout",
     "output_type": "stream",
     "text": [
      "train: publaynet, test: word\n",
      "./output/publaynet/ model_final.pth\n",
      "TableBank/Detection/images/bedrijfseconomie_h3_6.jpg\n",
      "1000\n"
     ]
    },
    {
     "name": "stderr",
     "output_type": "stream",
     "text": [
      "/u/yockelle/anaconda3/lib/python3.8/site-packages/torch/_tensor.py:575: UserWarning: floor_divide is deprecated, and will be removed in a future version of pytorch. It currently rounds toward 0 (like the 'trunc' function NOT 'floor'). This results in incorrect rounding for negative values.\n",
      "To keep the current behavior, use torch.div(a, b, rounding_mode='trunc'), or for actual floor division, use torch.div(a, b, rounding_mode='floor'). (Triggered internally at  ../aten/src/ATen/native/BinaryOps.cpp:467.)\n",
      "  return torch.floor_divide(self, other)\n"
     ]
    },
    {
     "name": "stdout",
     "output_type": "stream",
     "text": [
      "Precision:  84.50346340923544\n",
      "Recall:  80.60700335003867\n",
      "F1:  82.50925688495772\n",
      "-----\n",
      "train: publaynet, test: latex\n",
      "./output/publaynet/ model_final.pth\n",
      "TableBank/Detection/images/1507.06442_5.jpg\n",
      "1000\n",
      "Precision:  97.70200782318653\n",
      "Recall:  88.90869636082157\n",
      "F1:  93.09817660651338\n",
      "-----\n",
      "train: publaynet, test: publaynet\n",
      "./output/publaynet/ model_final.pth\n",
      "/data/rali5/Tmp/yockelle/PubLayNet/data/publaynet/val/PMC5134224_00005.jpg\n",
      "1000\n",
      "Precision:  97.48238741057375\n",
      "Recall:  96.05970519563455\n",
      "F1:  96.76581740261679\n",
      "-----\n",
      "train: publaynet, test: word-latex\n",
      "./output/publaynet/ model_final.pth\n",
      "TableBank/Detection/images/bedrijfseconomie_h3_6.jpg\n",
      "2000\n",
      "Precision:  88.45478634464018\n",
      "Recall:  83.17511850394163\n",
      "F1:  85.7337460269189\n"
     ]
    }
   ],
   "source": [
    "print(\"train: publaynet, test: word\")\n",
    "precision, recall, f1 = evaluate_models(\"publaynet\", \"word\", \"X101\", threshold=thres, take_the_table_bank_model = False)\n",
    "print(\"Precision: \", precision*100)\n",
    "print(\"Recall: \", recall*100)\n",
    "print(\"F1: \", f1*100)\n",
    "\n",
    "print(\"-----\")\n",
    "print(\"train: publaynet, test: latex\")\n",
    "precision, recall, f1 = evaluate_models(\"publaynet\", \"latex\", \"X101\", threshold=thres, take_the_table_bank_model = False)\n",
    "print(\"Precision: \", precision*100)\n",
    "print(\"Recall: \", recall*100)\n",
    "print(\"F1: \", f1*100)\n",
    "\n",
    "print(\"-----\")\n",
    "print(\"train: publaynet, test: publaynet\")\n",
    "precision, recall, f1 = evaluate_models(\"publaynet\", \"publaynet\", \"X101\", threshold=thres, take_the_table_bank_model = False)\n",
    "print(\"Precision: \", precision*100)\n",
    "print(\"Recall: \", recall*100)\n",
    "print(\"F1: \", f1*100)\n",
    "\n",
    "print(\"-----\")\n",
    "print(\"train: publaynet, test: word-latex\")\n",
    "precision, recall, f1 = evaluate_models(\"publaynet\", \"word-latex\", \"X101\", threshold=thres, take_the_table_bank_model = False)\n",
    "print(\"Precision: \", precision*100)\n",
    "print(\"Recall: \", recall*100)\n",
    "print(\"F1: \", f1*100)\n",
    "\n",
    "print(\"-----\")\n",
    "print(\"train: publaynet, test: word-latex-publaynet\")\n",
    "precision, recall, f1 = evaluate_models(\"publaynet\", \"word-latex-publaynet\", \"X101\", threshold=thres, take_the_table_bank_model = False)\n",
    "print(\"Precision: \", precision*100)\n",
    "print(\"Recall: \", recall*100)\n",
    "print(\"F1: \", f1*100)"
   ]
  },
  {
   "attachments": {},
   "cell_type": "markdown",
   "id": "8a9cd783",
   "metadata": {},
   "source": [
    "### Word-PubLayNet"
   ]
  },
  {
   "cell_type": "code",
   "execution_count": 5,
   "id": "7fc93c8a",
   "metadata": {},
   "outputs": [
    {
     "name": "stdout",
     "output_type": "stream",
     "text": [
      "train: publaynet, test: word\n",
      "./output/word-publaynet/ model_final.pth\n",
      "TableBank/Detection/images/bedrijfseconomie_h3_6.jpg\n",
      "1000\n"
     ]
    },
    {
     "name": "stderr",
     "output_type": "stream",
     "text": [
      "/u/yockelle/anaconda3/lib/python3.8/site-packages/torch/_tensor.py:575: UserWarning: floor_divide is deprecated, and will be removed in a future version of pytorch. It currently rounds toward 0 (like the 'trunc' function NOT 'floor'). This results in incorrect rounding for negative values.\n",
      "To keep the current behavior, use torch.div(a, b, rounding_mode='trunc'), or for actual floor division, use torch.div(a, b, rounding_mode='floor'). (Triggered internally at  ../aten/src/ATen/native/BinaryOps.cpp:467.)\n",
      "  return torch.floor_divide(self, other)\n"
     ]
    },
    {
     "name": "stdout",
     "output_type": "stream",
     "text": [
      "Precision:  82.9397043372882\n",
      "Recall:  96.75443587899333\n",
      "F1:  89.3160377457619\n",
      "-----\n",
      "train: publaynet, test: latex\n",
      "./output/word-publaynet/ model_final.pth\n",
      "TableBank/Detection/images/1507.06442_5.jpg\n",
      "1000\n",
      "Precision:  95.93724529180588\n",
      "Recall:  91.56941375445572\n",
      "F1:  93.7024567903017\n",
      "-----\n",
      "train: publaynet, test: publaynet\n",
      "./output/word-publaynet/ model_final.pth\n",
      "/data/rali5/Tmp/yockelle/PubLayNet/data/publaynet/val/PMC5134224_00005.jpg\n",
      "1000\n",
      "Precision:  95.80295290846297\n",
      "Recall:  96.10376606187032\n",
      "F1:  95.9531237233503\n",
      "-----\n",
      "train: publaynet, test: word-latex\n",
      "./output/word-publaynet/ model_final.pth\n",
      "TableBank/Detection/images/bedrijfseconomie_h3_6.jpg\n",
      "2000\n",
      "Precision:  86.42551088749151\n",
      "Recall:  95.1504577658478\n",
      "F1:  90.57836215421283\n",
      "-----\n",
      "train: publaynet, test: word-latex-publaynet\n",
      "./output/word-publaynet/ model_final.pth\n",
      "TableBank/Detection/images/bedrijfseconomie_h3_6.jpg\n",
      "3000\n",
      "Precision:  89.77533568064231\n",
      "Recall:  95.51162534971877\n",
      "F1:  92.55468576409669\n"
     ]
    }
   ],
   "source": [
    "print(\"train: publaynet, test: word\")\n",
    "precision, recall, f1 = evaluate_models(\"word-publaynet\", \"word\", \"X101\", threshold=thres, take_the_table_bank_model = False)\n",
    "print(\"Precision: \", precision*100)\n",
    "print(\"Recall: \", recall*100)\n",
    "print(\"F1: \", f1*100)\n",
    "\n",
    "print(\"-----\")\n",
    "print(\"train: publaynet, test: latex\")\n",
    "precision, recall, f1 = evaluate_models(\"word-publaynet\", \"latex\", \"X101\", threshold=thres, take_the_table_bank_model = False)\n",
    "print(\"Precision: \", precision*100)\n",
    "print(\"Recall: \", recall*100)\n",
    "print(\"F1: \", f1*100)\n",
    "\n",
    "print(\"-----\")\n",
    "print(\"train: publaynet, test: publaynet\")\n",
    "precision, recall, f1 = evaluate_models(\"word-publaynet\", \"publaynet\", \"X101\", threshold=thres, take_the_table_bank_model = False)\n",
    "print(\"Precision: \", precision*100)\n",
    "print(\"Recall: \", recall*100)\n",
    "print(\"F1: \", f1*100)\n",
    "\n",
    "print(\"-----\")\n",
    "print(\"train: publaynet, test: word-latex\")\n",
    "precision, recall, f1 = evaluate_models(\"word-publaynet\", \"word-latex\", \"X101\", threshold=thres, take_the_table_bank_model = False)\n",
    "print(\"Precision: \", precision*100)\n",
    "print(\"Recall: \", recall*100)\n",
    "print(\"F1: \", f1*100)\n",
    "\n",
    "print(\"-----\")\n",
    "print(\"train: publaynet, test: word-latex-publaynet\")\n",
    "precision, recall, f1 = evaluate_models(\"word-publaynet\", \"word-latex-publaynet\", \"X101\", threshold=thres, take_the_table_bank_model = False)\n",
    "print(\"Precision: \", precision*100)\n",
    "print(\"Recall: \", recall*100)\n",
    "print(\"F1: \", f1*100)"
   ]
  },
  {
   "cell_type": "code",
   "execution_count": 5,
   "id": "341fc364",
   "metadata": {},
   "outputs": [
    {
     "name": "stdout",
     "output_type": "stream",
     "text": [
      "-----\n",
      "train: word-publaynet, test: word-publaynet\n",
      "./output/word-publaynet/ model_final.pth\n",
      "TableBank/Detection/images/bedrijfseconomie_h3_6.jpg\n",
      "2000\n"
     ]
    },
    {
     "name": "stderr",
     "output_type": "stream",
     "text": [
      "/u/yockelle/anaconda3/lib/python3.8/site-packages/torch/_tensor.py:575: UserWarning: floor_divide is deprecated, and will be removed in a future version of pytorch. It currently rounds toward 0 (like the 'trunc' function NOT 'floor'). This results in incorrect rounding for negative values.\n",
      "To keep the current behavior, use torch.div(a, b, rounding_mode='trunc'), or for actual floor division, use torch.div(a, b, rounding_mode='floor'). (Triggered internally at  ../aten/src/ATen/native/BinaryOps.cpp:467.)\n",
      "  return torch.floor_divide(self, other)\n"
     ]
    },
    {
     "name": "stdout",
     "output_type": "stream",
     "text": [
      "Precision:  88.49561875667811\n",
      "Recall:  96.45285025788651\n",
      "F1:  92.30305835886328\n",
      "-----\n",
      "train: word-publaynet, test: latex-publaynet\n",
      "./output/word-publaynet/ model_final.pth\n",
      "TableBank/Detection/images/1507.06442_5.jpg\n",
      "2000\n",
      "Precision:  95.84751672729485\n",
      "Recall:  94.57938616813432\n",
      "F1:  95.2092289479243\n",
      "-----\n",
      "train: word-publaynet, test: word-latex-publaynet\n",
      "./output/word-publaynet/ model_final.pth\n",
      "TableBank/Detection/images/bedrijfseconomie_h3_6.jpg\n",
      "3000\n",
      "Precision:  89.77871301682242\n",
      "Recall:  95.51359582757188\n",
      "F1:  92.55740578212097\n"
     ]
    }
   ],
   "source": [
    "print(\"-----\")\n",
    "print(\"train: word-publaynet, test: word-publaynet\")\n",
    "precision, recall, f1 = evaluate_models(\"word-publaynet\", \"word-publaynet\", \"X101\", threshold=thres, take_the_table_bank_model = False)\n",
    "print(\"Precision: \", precision*100)\n",
    "print(\"Recall: \", recall*100)\n",
    "print(\"F1: \", f1*100)\n",
    "\n",
    "print(\"-----\")\n",
    "print(\"train: word-publaynet, test: latex-publaynet\")\n",
    "precision, recall, f1 = evaluate_models(\"word-publaynet\", \"latex-publaynet\", \"X101\", threshold=thres, take_the_table_bank_model = False)\n",
    "print(\"Precision: \", precision*100)\n",
    "print(\"Recall: \", recall*100)\n",
    "print(\"F1: \", f1*100)\n",
    "\n",
    "print(\"-----\")\n",
    "print(\"train: word-publaynet, test: word-latex-publaynet\")\n",
    "precision, recall, f1 = evaluate_models(\"word-publaynet\", \"word-latex-publaynet\", \"X101\", threshold=thres, take_the_table_bank_model = False)\n",
    "print(\"Precision: \", precision*100)\n",
    "print(\"Recall: \", recall*100)\n",
    "print(\"F1: \", f1*100)"
   ]
  },
  {
   "attachments": {},
   "cell_type": "markdown",
   "id": "209a97b0",
   "metadata": {},
   "source": [
    "### Latex-PubLayNet"
   ]
  },
  {
   "cell_type": "code",
   "execution_count": 8,
   "id": "c7de746f",
   "metadata": {},
   "outputs": [
    {
     "name": "stdout",
     "output_type": "stream",
     "text": [
      "train: latex-publaynet, test: word\n",
      "./output/latex-publaynet/ model_final.pth\n",
      "TableBank/Detection/images/bedrijfseconomie_h3_6.jpg\n",
      "1000\n",
      "Precision:  81.84347761285936\n",
      "Recall:  87.54739794610697\n",
      "F1:  84.59940336481746\n",
      "-----\n",
      "train: latex-publaynet, test: latex\n",
      "./output/latex-publaynet/ model_final.pth\n",
      "TableBank/Detection/images/1507.06442_5.jpg\n",
      "1000\n",
      "Precision:  97.28975770486669\n",
      "Recall:  93.59904452763796\n",
      "F1:  95.40872232420882\n",
      "-----\n",
      "train: latex-publaynet, test: publaynet\n",
      "./output/latex-publaynet/ model_final.pth\n",
      "/data/rali5/Tmp/yockelle/PubLayNet/data/publaynet/val/PMC5134224_00005.jpg\n",
      "1000\n",
      "Precision:  97.11063897346641\n",
      "Recall:  94.23642247908239\n",
      "F1:  95.6519439812419\n"
     ]
    }
   ],
   "source": [
    "print(\"train: latex-publaynet, test: word\")\n",
    "precision, recall, f1 = evaluate_models(\"latex-publaynet\", \"word\", \"X101\", threshold=thres, take_the_table_bank_model = False)\n",
    "print(\"Precision: \", precision*100)\n",
    "print(\"Recall: \", recall*100)\n",
    "print(\"F1: \", f1*100)\n",
    "\n",
    "print(\"-----\")\n",
    "print(\"train: latex-publaynet, test: latex\")\n",
    "precision, recall, f1 = evaluate_models(\"latex-publaynet\", \"latex\", \"X101\", threshold=thres, take_the_table_bank_model = False)\n",
    "print(\"Precision: \", precision*100)\n",
    "print(\"Recall: \", recall*100)\n",
    "print(\"F1: \", f1*100)\n",
    "\n",
    "print(\"-----\")\n",
    "print(\"train: latex-publaynet, test: publaynet\")\n",
    "precision, recall, f1 = evaluate_models(\"latex-publaynet\", \"publaynet\", \"X101\", threshold=thres, take_the_table_bank_model = False)\n",
    "print(\"Precision: \", precision*100)\n",
    "print(\"Recall: \", recall*100)\n",
    "print(\"F1: \", f1*100)"
   ]
  },
  {
   "cell_type": "code",
   "execution_count": 9,
   "id": "44ba4561",
   "metadata": {},
   "outputs": [
    {
     "name": "stdout",
     "output_type": "stream",
     "text": [
      "-----\n",
      "train: latex-publaynet, test: publaynet\n",
      "./output/latex-publaynet/ model_final.pth\n",
      "/data/rali5/Tmp/yockelle/PubLayNet/data/publaynet/val/PMC5134224_00005.jpg\n",
      "1000\n",
      "Precision:  97.11063897346641\n",
      "Recall:  94.23642247908239\n",
      "F1:  95.6519439812419\n"
     ]
    }
   ],
   "source": [
    "print(\"-----\")\n",
    "print(\"train: latex-publaynet, test: publaynet\")\n",
    "precision, recall, f1 = evaluate_models(\"latex-publaynet\", \"publaynet\", \"X101\", threshold=thres, take_the_table_bank_model = False)\n",
    "print(\"Precision: \", precision*100)\n",
    "print(\"Recall: \", recall*100)\n",
    "print(\"F1: \", f1*100)"
   ]
  },
  {
   "cell_type": "code",
   "execution_count": 7,
   "id": "3b6b7db9",
   "metadata": {},
   "outputs": [
    {
     "name": "stdout",
     "output_type": "stream",
     "text": [
      "-----\n",
      "train: latex-publaynet, test: word-latex\n",
      "./output/latex-publaynet/ model_final.pth\n",
      "TableBank/Detection/images/bedrijfseconomie_h3_6.jpg\n",
      "2000\n",
      "Precision:  86.27904612400008\n",
      "Recall:  89.41946491749547\n",
      "F1:  87.82118974449253\n",
      "-----\n",
      "train: latex-publaynet, test: word-publaynet\n",
      "./output/latex-publaynet/ model_final.pth\n",
      "TableBank/Detection/images/bedrijfseconomie_h3_6.jpg\n",
      "2000\n",
      "Precision:  88.63433084215441\n",
      "Recall:  90.68434514969043\n",
      "F1:  89.64761986718356\n",
      "-----\n",
      "train: latex-publaynet, test: latex-publaynet\n",
      "./output/latex-publaynet/ model_final.pth\n",
      "TableBank/Detection/images/1507.06442_5.jpg\n",
      "2000\n",
      "Precision:  97.17056963609335\n",
      "Recall:  94.021938297213\n",
      "F1:  95.5703275341393\n",
      "-----\n",
      "train: latex-publaynet, test: word-latex-publaynet\n",
      "./output/latex-publaynet/ model_final.pth\n",
      "TableBank/Detection/images/bedrijfseconomie_h3_6.jpg\n",
      "3000\n",
      "Precision:  90.21634790972566\n",
      "Recall:  91.2444033255489\n",
      "F1:  90.72746342331753\n"
     ]
    }
   ],
   "source": [
    "print(\"-----\")\n",
    "print(\"train: latex-publaynet, test: word-latex\")\n",
    "precision, recall, f1 = evaluate_models(\"latex-publaynet\", \"word-latex\", \"X101\", threshold=thres, take_the_table_bank_model = False)\n",
    "print(\"Precision: \", precision*100)\n",
    "print(\"Recall: \", recall*100)\n",
    "print(\"F1: \", f1*100)\n",
    "\n",
    "print(\"-----\")\n",
    "print(\"train: latex-publaynet, test: word-publaynet\")\n",
    "precision, recall, f1 = evaluate_models(\"latex-publaynet\", \"word-publaynet\", \"X101\", threshold=thres, take_the_table_bank_model = False)\n",
    "print(\"Precision: \", precision*100)\n",
    "print(\"Recall: \", recall*100)\n",
    "print(\"F1: \", f1*100)\n",
    "\n",
    "print(\"-----\")\n",
    "print(\"train: latex-publaynet, test: latex-publaynet\")\n",
    "precision, recall, f1 = evaluate_models(\"latex-publaynet\", \"latex-publaynet\", \"X101\", threshold=thres, take_the_table_bank_model = False)\n",
    "print(\"Precision: \", precision*100)\n",
    "print(\"Recall: \", recall*100)\n",
    "print(\"F1: \", f1*100)\n",
    "\n",
    "print(\"-----\")\n",
    "print(\"train: latex-publaynet, test: word-latex-publaynet\")\n",
    "precision, recall, f1 = evaluate_models(\"latex-publaynet\", \"word-latex-publaynet\", \"X101\", threshold=thres, take_the_table_bank_model = False)\n",
    "print(\"Precision: \", precision*100)\n",
    "print(\"Recall: \", recall*100)\n",
    "print(\"F1: \", f1*100)"
   ]
  },
  {
   "attachments": {},
   "cell_type": "markdown",
   "id": "ca7a9d67",
   "metadata": {},
   "source": [
    "### Word-Latex-PubLayNet"
   ]
  },
  {
   "cell_type": "code",
   "execution_count": 10,
   "id": "08683515",
   "metadata": {},
   "outputs": [
    {
     "name": "stdout",
     "output_type": "stream",
     "text": [
      "train: word-latex-publaynet, test: word\n",
      "./output/word-latex-publaynet/ model_final.pth\n",
      "TableBank/Detection/images/bedrijfseconomie_h3_6.jpg\n",
      "1000\n",
      "Precision:  80.82052873845794\n",
      "Recall:  96.64842403333839\n",
      "F1:  88.028656394421\n",
      "-----\n",
      "train: word-latex-publaynet, test: latex\n",
      "./output/word-latex-publaynet/ model_final.pth\n",
      "TableBank/Detection/images/1507.06442_5.jpg\n",
      "1000\n",
      "Precision:  94.02500494167029\n",
      "Recall:  95.5553777812925\n",
      "F1:  94.78401445384303\n",
      "-----\n",
      "train: word-latex-publaynet, test: publaynet\n",
      "./output/word-latex-publaynet/ model_final.pth\n",
      "/data/rali5/Tmp/yockelle/PubLayNet/data/publaynet/val/PMC5134224_00005.jpg\n",
      "1000\n",
      "Precision:  91.96592092128401\n",
      "Recall:  95.75169848129269\n",
      "F1:  93.82063504357781\n"
     ]
    }
   ],
   "source": [
    "print(\"train: word-latex-publaynet, test: word\")\n",
    "precision, recall, f1 = evaluate_models(\"word-latex-publaynet\", \"word\", \"X101\", threshold=thres, take_the_table_bank_model = False)\n",
    "print(\"Precision: \", precision*100)\n",
    "print(\"Recall: \", recall*100)\n",
    "print(\"F1: \", f1*100)\n",
    "\n",
    "print(\"-----\")\n",
    "print(\"train: word-latex-publaynet, test: latex\")\n",
    "precision, recall, f1 = evaluate_models(\"word-latex-publaynet\", \"latex\", \"X101\", threshold=thres, take_the_table_bank_model = False)\n",
    "print(\"Precision: \", precision*100)\n",
    "print(\"Recall: \", recall*100)\n",
    "print(\"F1: \", f1*100)\n",
    "\n",
    "print(\"-----\")\n",
    "print(\"train: word-latex-publaynet, test: publaynet\")\n",
    "precision, recall, f1 = evaluate_models(\"word-latex-publaynet\", \"publaynet\", \"X101\", threshold=thres, take_the_table_bank_model = False)\n",
    "print(\"Precision: \", precision*100)\n",
    "print(\"Recall: \", recall*100)\n",
    "print(\"F1: \", f1*100)"
   ]
  },
  {
   "cell_type": "code",
   "execution_count": 11,
   "id": "c0c96e36",
   "metadata": {},
   "outputs": [
    {
     "name": "stdout",
     "output_type": "stream",
     "text": [
      "-----\n",
      "train: word-latex-publaynet, test: word-latex\n",
      "./output/word-latex-publaynet/ model_final.pth\n",
      "TableBank/Detection/images/bedrijfseconomie_h3_6.jpg\n",
      "2000\n",
      "Precision:  84.4610585511397\n",
      "Recall:  96.310291963151\n",
      "F1:  89.99732740209842\n",
      "-----\n",
      "train: word-latex-publaynet, test: word-publaynet\n",
      "./output/word-latex-publaynet/ model_final.pth\n",
      "TableBank/Detection/images/bedrijfseconomie_h3_6.jpg\n",
      "2000\n",
      "Precision:  85.66518234923262\n",
      "Recall:  96.22788727211037\n",
      "F1:  90.63984161032018\n",
      "-----\n",
      "train: word-latex-publaynet, test: latex-publaynet\n",
      "./output/word-latex-publaynet/ model_final.pth\n",
      "TableBank/Detection/images/1507.06442_5.jpg\n",
      "2000\n",
      "Precision:  92.64774475859416\n",
      "Recall:  95.68563456328604\n",
      "F1:  94.14218849577576\n",
      "-----\n",
      "train: word-latex-publaynet, test: word-latex-publaynet\n",
      "./output/word-latex-publaynet/ model_final.pth\n",
      "TableBank/Detection/images/bedrijfseconomie_h3_6.jpg\n",
      "3000\n",
      "Precision:  87.14557246439082\n",
      "Recall:  96.0986648756173\n",
      "F1:  91.40340002191029\n"
     ]
    }
   ],
   "source": [
    "print(\"-----\")\n",
    "print(\"train: word-latex-publaynet, test: word-latex\")\n",
    "precision, recall, f1 = evaluate_models(\"word-latex-publaynet\", \"word-latex\", \"X101\", threshold=thres, take_the_table_bank_model = False)\n",
    "print(\"Precision: \", precision*100)\n",
    "print(\"Recall: \", recall*100)\n",
    "print(\"F1: \", f1*100)\n",
    "\n",
    "print(\"-----\")\n",
    "print(\"train: word-latex-publaynet, test: word-publaynet\")\n",
    "precision, recall, f1 = evaluate_models(\"word-latex-publaynet\", \"word-publaynet\", \"X101\", threshold=thres, take_the_table_bank_model = False)\n",
    "print(\"Precision: \", precision*100)\n",
    "print(\"Recall: \", recall*100)\n",
    "print(\"F1: \", f1*100)\n",
    "\n",
    "print(\"-----\")\n",
    "print(\"train: word-latex-publaynet, test: latex-publaynet\")\n",
    "precision, recall, f1 = evaluate_models(\"word-latex-publaynet\", \"latex-publaynet\", \"X101\", threshold=thres, take_the_table_bank_model = False)\n",
    "print(\"Precision: \", precision*100)\n",
    "print(\"Recall: \", recall*100)\n",
    "print(\"F1: \", f1*100)\n",
    "\n",
    "print(\"-----\")\n",
    "print(\"train: word-latex-publaynet, test: word-latex-publaynet\")\n",
    "precision, recall, f1 = evaluate_models(\"word-latex-publaynet\", \"word-latex-publaynet\", \"X101\", threshold=thres, take_the_table_bank_model = False)\n",
    "print(\"Precision: \", precision*100)\n",
    "print(\"Recall: \", recall*100)\n",
    "print(\"F1: \", f1*100)"
   ]
  },
  {
   "attachments": {},
   "cell_type": "markdown",
   "id": "84c1c255",
   "metadata": {},
   "source": [
    "### Word-PubLayNet"
   ]
  },
  {
   "cell_type": "code",
   "execution_count": 5,
   "id": "b08bccfb",
   "metadata": {},
   "outputs": [
    {
     "name": "stdout",
     "output_type": "stream",
     "text": [
      "train: word-publaynet, test: word\n",
      "./output/word-publaynet/ model_final.pth\n"
     ]
    },
    {
     "ename": "RuntimeError",
     "evalue": "CUDA error: out of memory\nCUDA kernel errors might be asynchronously reported at some other API call,so the stacktrace below might be incorrect.\nFor debugging consider passing CUDA_LAUNCH_BLOCKING=1.",
     "output_type": "error",
     "traceback": [
      "\u001b[0;31m---------------------------------------------------------------------------\u001b[0m",
      "\u001b[0;31mRuntimeError\u001b[0m                              Traceback (most recent call last)",
      "\u001b[0;32m<ipython-input-5-07a4748d26f4>\u001b[0m in \u001b[0;36m<module>\u001b[0;34m\u001b[0m\n\u001b[1;32m      1\u001b[0m \u001b[0mprint\u001b[0m\u001b[0;34m(\u001b[0m\u001b[0;34m\"train: word-publaynet, test: word\"\u001b[0m\u001b[0;34m)\u001b[0m\u001b[0;34m\u001b[0m\u001b[0;34m\u001b[0m\u001b[0m\n\u001b[0;32m----> 2\u001b[0;31m \u001b[0mprecision\u001b[0m\u001b[0;34m,\u001b[0m \u001b[0mrecall\u001b[0m\u001b[0;34m,\u001b[0m \u001b[0mf1\u001b[0m \u001b[0;34m=\u001b[0m \u001b[0mevaluate_models\u001b[0m\u001b[0;34m(\u001b[0m\u001b[0;34m\"word-publaynet\"\u001b[0m\u001b[0;34m,\u001b[0m \u001b[0;34m\"word\"\u001b[0m\u001b[0;34m,\u001b[0m \u001b[0;34m\"X101\"\u001b[0m\u001b[0;34m,\u001b[0m \u001b[0mthreshold\u001b[0m\u001b[0;34m=\u001b[0m\u001b[0mthres\u001b[0m\u001b[0;34m,\u001b[0m \u001b[0mtake_the_table_bank_model\u001b[0m \u001b[0;34m=\u001b[0m \u001b[0;32mFalse\u001b[0m\u001b[0;34m)\u001b[0m\u001b[0;34m\u001b[0m\u001b[0;34m\u001b[0m\u001b[0m\n\u001b[0m\u001b[1;32m      3\u001b[0m \u001b[0mprint\u001b[0m\u001b[0;34m(\u001b[0m\u001b[0;34m\"Precision: \"\u001b[0m\u001b[0;34m,\u001b[0m \u001b[0mprecision\u001b[0m\u001b[0;34m*\u001b[0m\u001b[0;36m100\u001b[0m\u001b[0;34m)\u001b[0m\u001b[0;34m\u001b[0m\u001b[0;34m\u001b[0m\u001b[0m\n\u001b[1;32m      4\u001b[0m \u001b[0mprint\u001b[0m\u001b[0;34m(\u001b[0m\u001b[0;34m\"Recall: \"\u001b[0m\u001b[0;34m,\u001b[0m \u001b[0mrecall\u001b[0m\u001b[0;34m*\u001b[0m\u001b[0;36m100\u001b[0m\u001b[0;34m)\u001b[0m\u001b[0;34m\u001b[0m\u001b[0;34m\u001b[0m\u001b[0m\n\u001b[1;32m      5\u001b[0m \u001b[0mprint\u001b[0m\u001b[0;34m(\u001b[0m\u001b[0;34m\"F1: \"\u001b[0m\u001b[0;34m,\u001b[0m \u001b[0mf1\u001b[0m\u001b[0;34m*\u001b[0m\u001b[0;36m100\u001b[0m\u001b[0;34m)\u001b[0m\u001b[0;34m\u001b[0m\u001b[0;34m\u001b[0m\u001b[0m\n",
      "\u001b[0;32m~/TableBank/get_models_and_set.py\u001b[0m in \u001b[0;36mevaluate_models\u001b[0;34m(train_type_name, test_type_name, size_model, threshold, take_the_table_bank_model, take_only_1k)\u001b[0m\n\u001b[1;32m    120\u001b[0m     \u001b[0msum_denominator_recall\u001b[0m \u001b[0;34m=\u001b[0m \u001b[0;36m0\u001b[0m\u001b[0;34m\u001b[0m\u001b[0;34m\u001b[0m\u001b[0m\n\u001b[1;32m    121\u001b[0m \u001b[0;34m\u001b[0m\u001b[0m\n\u001b[0;32m--> 122\u001b[0;31m     \u001b[0mpredictor\u001b[0m \u001b[0;34m=\u001b[0m \u001b[0mget_model\u001b[0m\u001b[0;34m(\u001b[0m\u001b[0mtrain_type_name\u001b[0m\u001b[0;34m,\u001b[0m \u001b[0msize_model\u001b[0m\u001b[0;34m,\u001b[0m \u001b[0mtablebank_model\u001b[0m \u001b[0;34m=\u001b[0m \u001b[0mtake_the_table_bank_model\u001b[0m\u001b[0;34m)\u001b[0m\u001b[0;34m\u001b[0m\u001b[0;34m\u001b[0m\u001b[0m\n\u001b[0m\u001b[1;32m    123\u001b[0m \u001b[0;34m\u001b[0m\u001b[0m\n\u001b[1;32m    124\u001b[0m     \u001b[0mtest_data\u001b[0m \u001b[0;34m=\u001b[0m \u001b[0;34m[\u001b[0m\u001b[0;34m]\u001b[0m\u001b[0;34m\u001b[0m\u001b[0;34m\u001b[0m\u001b[0m\n",
      "\u001b[0;32m~/TableBank/get_models_and_set.py\u001b[0m in \u001b[0;36mget_model\u001b[0;34m(type_, size_model, tablebank_model)\u001b[0m\n\u001b[1;32m    107\u001b[0m         \u001b[0mcfg\u001b[0m\u001b[0;34m.\u001b[0m\u001b[0mTEST\u001b[0m\u001b[0;34m.\u001b[0m\u001b[0mEVAL_PERIOD\u001b[0m \u001b[0;34m=\u001b[0m \u001b[0;36m1000\u001b[0m\u001b[0;34m\u001b[0m\u001b[0;34m\u001b[0m\u001b[0m\n\u001b[1;32m    108\u001b[0m         \u001b[0mCUDA_LAUNCH_BLOCKING\u001b[0m \u001b[0;34m=\u001b[0m \u001b[0;36m1\u001b[0m\u001b[0;34m\u001b[0m\u001b[0;34m\u001b[0m\u001b[0m\n\u001b[0;32m--> 109\u001b[0;31m         \u001b[0mpredictor\u001b[0m \u001b[0;34m=\u001b[0m \u001b[0mDefaultPredictor\u001b[0m\u001b[0;34m(\u001b[0m\u001b[0mcfg\u001b[0m\u001b[0;34m)\u001b[0m\u001b[0;34m\u001b[0m\u001b[0;34m\u001b[0m\u001b[0m\n\u001b[0m\u001b[1;32m    110\u001b[0m \u001b[0;34m\u001b[0m\u001b[0m\n\u001b[1;32m    111\u001b[0m     \u001b[0;32mreturn\u001b[0m \u001b[0mpredictor\u001b[0m\u001b[0;34m\u001b[0m\u001b[0;34m\u001b[0m\u001b[0m\n",
      "\u001b[0;32m~/anaconda3/lib/python3.8/site-packages/detectron2/engine/defaults.py\u001b[0m in \u001b[0;36m__init__\u001b[0;34m(self, cfg)\u001b[0m\n\u001b[1;32m    280\u001b[0m     \u001b[0;32mdef\u001b[0m \u001b[0m__init__\u001b[0m\u001b[0;34m(\u001b[0m\u001b[0mself\u001b[0m\u001b[0;34m,\u001b[0m \u001b[0mcfg\u001b[0m\u001b[0;34m)\u001b[0m\u001b[0;34m:\u001b[0m\u001b[0;34m\u001b[0m\u001b[0;34m\u001b[0m\u001b[0m\n\u001b[1;32m    281\u001b[0m         \u001b[0mself\u001b[0m\u001b[0;34m.\u001b[0m\u001b[0mcfg\u001b[0m \u001b[0;34m=\u001b[0m \u001b[0mcfg\u001b[0m\u001b[0;34m.\u001b[0m\u001b[0mclone\u001b[0m\u001b[0;34m(\u001b[0m\u001b[0;34m)\u001b[0m  \u001b[0;31m# cfg can be modified by model\u001b[0m\u001b[0;34m\u001b[0m\u001b[0;34m\u001b[0m\u001b[0m\n\u001b[0;32m--> 282\u001b[0;31m         \u001b[0mself\u001b[0m\u001b[0;34m.\u001b[0m\u001b[0mmodel\u001b[0m \u001b[0;34m=\u001b[0m \u001b[0mbuild_model\u001b[0m\u001b[0;34m(\u001b[0m\u001b[0mself\u001b[0m\u001b[0;34m.\u001b[0m\u001b[0mcfg\u001b[0m\u001b[0;34m)\u001b[0m\u001b[0;34m\u001b[0m\u001b[0;34m\u001b[0m\u001b[0m\n\u001b[0m\u001b[1;32m    283\u001b[0m         \u001b[0mself\u001b[0m\u001b[0;34m.\u001b[0m\u001b[0mmodel\u001b[0m\u001b[0;34m.\u001b[0m\u001b[0meval\u001b[0m\u001b[0;34m(\u001b[0m\u001b[0;34m)\u001b[0m\u001b[0;34m\u001b[0m\u001b[0;34m\u001b[0m\u001b[0m\n\u001b[1;32m    284\u001b[0m         \u001b[0;32mif\u001b[0m \u001b[0mlen\u001b[0m\u001b[0;34m(\u001b[0m\u001b[0mcfg\u001b[0m\u001b[0;34m.\u001b[0m\u001b[0mDATASETS\u001b[0m\u001b[0;34m.\u001b[0m\u001b[0mTEST\u001b[0m\u001b[0;34m)\u001b[0m\u001b[0;34m:\u001b[0m\u001b[0;34m\u001b[0m\u001b[0;34m\u001b[0m\u001b[0m\n",
      "\u001b[0;32m~/anaconda3/lib/python3.8/site-packages/detectron2/modeling/meta_arch/build.py\u001b[0m in \u001b[0;36mbuild_model\u001b[0;34m(cfg)\u001b[0m\n\u001b[1;32m     21\u001b[0m     \u001b[0mmeta_arch\u001b[0m \u001b[0;34m=\u001b[0m \u001b[0mcfg\u001b[0m\u001b[0;34m.\u001b[0m\u001b[0mMODEL\u001b[0m\u001b[0;34m.\u001b[0m\u001b[0mMETA_ARCHITECTURE\u001b[0m\u001b[0;34m\u001b[0m\u001b[0;34m\u001b[0m\u001b[0m\n\u001b[1;32m     22\u001b[0m     \u001b[0mmodel\u001b[0m \u001b[0;34m=\u001b[0m \u001b[0mMETA_ARCH_REGISTRY\u001b[0m\u001b[0;34m.\u001b[0m\u001b[0mget\u001b[0m\u001b[0;34m(\u001b[0m\u001b[0mmeta_arch\u001b[0m\u001b[0;34m)\u001b[0m\u001b[0;34m(\u001b[0m\u001b[0mcfg\u001b[0m\u001b[0;34m)\u001b[0m\u001b[0;34m\u001b[0m\u001b[0;34m\u001b[0m\u001b[0m\n\u001b[0;32m---> 23\u001b[0;31m     \u001b[0mmodel\u001b[0m\u001b[0;34m.\u001b[0m\u001b[0mto\u001b[0m\u001b[0;34m(\u001b[0m\u001b[0mtorch\u001b[0m\u001b[0;34m.\u001b[0m\u001b[0mdevice\u001b[0m\u001b[0;34m(\u001b[0m\u001b[0mcfg\u001b[0m\u001b[0;34m.\u001b[0m\u001b[0mMODEL\u001b[0m\u001b[0;34m.\u001b[0m\u001b[0mDEVICE\u001b[0m\u001b[0;34m)\u001b[0m\u001b[0;34m)\u001b[0m\u001b[0;34m\u001b[0m\u001b[0;34m\u001b[0m\u001b[0m\n\u001b[0m\u001b[1;32m     24\u001b[0m     \u001b[0m_log_api_usage\u001b[0m\u001b[0;34m(\u001b[0m\u001b[0;34m\"modeling.meta_arch.\"\u001b[0m \u001b[0;34m+\u001b[0m \u001b[0mmeta_arch\u001b[0m\u001b[0;34m)\u001b[0m\u001b[0;34m\u001b[0m\u001b[0;34m\u001b[0m\u001b[0m\n\u001b[1;32m     25\u001b[0m     \u001b[0;32mreturn\u001b[0m \u001b[0mmodel\u001b[0m\u001b[0;34m\u001b[0m\u001b[0;34m\u001b[0m\u001b[0m\n",
      "\u001b[0;32m~/anaconda3/lib/python3.8/site-packages/torch/nn/modules/module.py\u001b[0m in \u001b[0;36mto\u001b[0;34m(self, *args, **kwargs)\u001b[0m\n\u001b[1;32m    850\u001b[0m             \u001b[0;32mreturn\u001b[0m \u001b[0mt\u001b[0m\u001b[0;34m.\u001b[0m\u001b[0mto\u001b[0m\u001b[0;34m(\u001b[0m\u001b[0mdevice\u001b[0m\u001b[0;34m,\u001b[0m \u001b[0mdtype\u001b[0m \u001b[0;32mif\u001b[0m \u001b[0mt\u001b[0m\u001b[0;34m.\u001b[0m\u001b[0mis_floating_point\u001b[0m\u001b[0;34m(\u001b[0m\u001b[0;34m)\u001b[0m \u001b[0;32mor\u001b[0m \u001b[0mt\u001b[0m\u001b[0;34m.\u001b[0m\u001b[0mis_complex\u001b[0m\u001b[0;34m(\u001b[0m\u001b[0;34m)\u001b[0m \u001b[0;32melse\u001b[0m \u001b[0;32mNone\u001b[0m\u001b[0;34m,\u001b[0m \u001b[0mnon_blocking\u001b[0m\u001b[0;34m)\u001b[0m\u001b[0;34m\u001b[0m\u001b[0;34m\u001b[0m\u001b[0m\n\u001b[1;32m    851\u001b[0m \u001b[0;34m\u001b[0m\u001b[0m\n\u001b[0;32m--> 852\u001b[0;31m         \u001b[0;32mreturn\u001b[0m \u001b[0mself\u001b[0m\u001b[0;34m.\u001b[0m\u001b[0m_apply\u001b[0m\u001b[0;34m(\u001b[0m\u001b[0mconvert\u001b[0m\u001b[0;34m)\u001b[0m\u001b[0;34m\u001b[0m\u001b[0;34m\u001b[0m\u001b[0m\n\u001b[0m\u001b[1;32m    853\u001b[0m \u001b[0;34m\u001b[0m\u001b[0m\n\u001b[1;32m    854\u001b[0m     def register_backward_hook(\n",
      "\u001b[0;32m~/anaconda3/lib/python3.8/site-packages/torch/nn/modules/module.py\u001b[0m in \u001b[0;36m_apply\u001b[0;34m(self, fn)\u001b[0m\n\u001b[1;32m    528\u001b[0m     \u001b[0;32mdef\u001b[0m \u001b[0m_apply\u001b[0m\u001b[0;34m(\u001b[0m\u001b[0mself\u001b[0m\u001b[0;34m,\u001b[0m \u001b[0mfn\u001b[0m\u001b[0;34m)\u001b[0m\u001b[0;34m:\u001b[0m\u001b[0;34m\u001b[0m\u001b[0;34m\u001b[0m\u001b[0m\n\u001b[1;32m    529\u001b[0m         \u001b[0;32mfor\u001b[0m \u001b[0mmodule\u001b[0m \u001b[0;32min\u001b[0m \u001b[0mself\u001b[0m\u001b[0;34m.\u001b[0m\u001b[0mchildren\u001b[0m\u001b[0;34m(\u001b[0m\u001b[0;34m)\u001b[0m\u001b[0;34m:\u001b[0m\u001b[0;34m\u001b[0m\u001b[0;34m\u001b[0m\u001b[0m\n\u001b[0;32m--> 530\u001b[0;31m             \u001b[0mmodule\u001b[0m\u001b[0;34m.\u001b[0m\u001b[0m_apply\u001b[0m\u001b[0;34m(\u001b[0m\u001b[0mfn\u001b[0m\u001b[0;34m)\u001b[0m\u001b[0;34m\u001b[0m\u001b[0;34m\u001b[0m\u001b[0m\n\u001b[0m\u001b[1;32m    531\u001b[0m \u001b[0;34m\u001b[0m\u001b[0m\n\u001b[1;32m    532\u001b[0m         \u001b[0;32mdef\u001b[0m \u001b[0mcompute_should_use_set_data\u001b[0m\u001b[0;34m(\u001b[0m\u001b[0mtensor\u001b[0m\u001b[0;34m,\u001b[0m \u001b[0mtensor_applied\u001b[0m\u001b[0;34m)\u001b[0m\u001b[0;34m:\u001b[0m\u001b[0;34m\u001b[0m\u001b[0;34m\u001b[0m\u001b[0m\n",
      "\u001b[0;32m~/anaconda3/lib/python3.8/site-packages/torch/nn/modules/module.py\u001b[0m in \u001b[0;36m_apply\u001b[0;34m(self, fn)\u001b[0m\n\u001b[1;32m    528\u001b[0m     \u001b[0;32mdef\u001b[0m \u001b[0m_apply\u001b[0m\u001b[0;34m(\u001b[0m\u001b[0mself\u001b[0m\u001b[0;34m,\u001b[0m \u001b[0mfn\u001b[0m\u001b[0;34m)\u001b[0m\u001b[0;34m:\u001b[0m\u001b[0;34m\u001b[0m\u001b[0;34m\u001b[0m\u001b[0m\n\u001b[1;32m    529\u001b[0m         \u001b[0;32mfor\u001b[0m \u001b[0mmodule\u001b[0m \u001b[0;32min\u001b[0m \u001b[0mself\u001b[0m\u001b[0;34m.\u001b[0m\u001b[0mchildren\u001b[0m\u001b[0;34m(\u001b[0m\u001b[0;34m)\u001b[0m\u001b[0;34m:\u001b[0m\u001b[0;34m\u001b[0m\u001b[0;34m\u001b[0m\u001b[0m\n\u001b[0;32m--> 530\u001b[0;31m             \u001b[0mmodule\u001b[0m\u001b[0;34m.\u001b[0m\u001b[0m_apply\u001b[0m\u001b[0;34m(\u001b[0m\u001b[0mfn\u001b[0m\u001b[0;34m)\u001b[0m\u001b[0;34m\u001b[0m\u001b[0;34m\u001b[0m\u001b[0m\n\u001b[0m\u001b[1;32m    531\u001b[0m \u001b[0;34m\u001b[0m\u001b[0m\n\u001b[1;32m    532\u001b[0m         \u001b[0;32mdef\u001b[0m \u001b[0mcompute_should_use_set_data\u001b[0m\u001b[0;34m(\u001b[0m\u001b[0mtensor\u001b[0m\u001b[0;34m,\u001b[0m \u001b[0mtensor_applied\u001b[0m\u001b[0;34m)\u001b[0m\u001b[0;34m:\u001b[0m\u001b[0;34m\u001b[0m\u001b[0;34m\u001b[0m\u001b[0m\n",
      "\u001b[0;32m~/anaconda3/lib/python3.8/site-packages/torch/nn/modules/module.py\u001b[0m in \u001b[0;36m_apply\u001b[0;34m(self, fn)\u001b[0m\n\u001b[1;32m    550\u001b[0m                 \u001b[0;31m# `with torch.no_grad():`\u001b[0m\u001b[0;34m\u001b[0m\u001b[0;34m\u001b[0m\u001b[0;34m\u001b[0m\u001b[0m\n\u001b[1;32m    551\u001b[0m                 \u001b[0;32mwith\u001b[0m \u001b[0mtorch\u001b[0m\u001b[0;34m.\u001b[0m\u001b[0mno_grad\u001b[0m\u001b[0;34m(\u001b[0m\u001b[0;34m)\u001b[0m\u001b[0;34m:\u001b[0m\u001b[0;34m\u001b[0m\u001b[0;34m\u001b[0m\u001b[0m\n\u001b[0;32m--> 552\u001b[0;31m                     \u001b[0mparam_applied\u001b[0m \u001b[0;34m=\u001b[0m \u001b[0mfn\u001b[0m\u001b[0;34m(\u001b[0m\u001b[0mparam\u001b[0m\u001b[0;34m)\u001b[0m\u001b[0;34m\u001b[0m\u001b[0;34m\u001b[0m\u001b[0m\n\u001b[0m\u001b[1;32m    553\u001b[0m                 \u001b[0mshould_use_set_data\u001b[0m \u001b[0;34m=\u001b[0m \u001b[0mcompute_should_use_set_data\u001b[0m\u001b[0;34m(\u001b[0m\u001b[0mparam\u001b[0m\u001b[0;34m,\u001b[0m \u001b[0mparam_applied\u001b[0m\u001b[0;34m)\u001b[0m\u001b[0;34m\u001b[0m\u001b[0;34m\u001b[0m\u001b[0m\n\u001b[1;32m    554\u001b[0m                 \u001b[0;32mif\u001b[0m \u001b[0mshould_use_set_data\u001b[0m\u001b[0;34m:\u001b[0m\u001b[0;34m\u001b[0m\u001b[0;34m\u001b[0m\u001b[0m\n",
      "\u001b[0;32m~/anaconda3/lib/python3.8/site-packages/torch/nn/modules/module.py\u001b[0m in \u001b[0;36mconvert\u001b[0;34m(t)\u001b[0m\n\u001b[1;32m    848\u001b[0m                 return t.to(device, dtype if t.is_floating_point() or t.is_complex() else None,\n\u001b[1;32m    849\u001b[0m                             non_blocking, memory_format=convert_to_format)\n\u001b[0;32m--> 850\u001b[0;31m             \u001b[0;32mreturn\u001b[0m \u001b[0mt\u001b[0m\u001b[0;34m.\u001b[0m\u001b[0mto\u001b[0m\u001b[0;34m(\u001b[0m\u001b[0mdevice\u001b[0m\u001b[0;34m,\u001b[0m \u001b[0mdtype\u001b[0m \u001b[0;32mif\u001b[0m \u001b[0mt\u001b[0m\u001b[0;34m.\u001b[0m\u001b[0mis_floating_point\u001b[0m\u001b[0;34m(\u001b[0m\u001b[0;34m)\u001b[0m \u001b[0;32mor\u001b[0m \u001b[0mt\u001b[0m\u001b[0;34m.\u001b[0m\u001b[0mis_complex\u001b[0m\u001b[0;34m(\u001b[0m\u001b[0;34m)\u001b[0m \u001b[0;32melse\u001b[0m \u001b[0;32mNone\u001b[0m\u001b[0;34m,\u001b[0m \u001b[0mnon_blocking\u001b[0m\u001b[0;34m)\u001b[0m\u001b[0;34m\u001b[0m\u001b[0;34m\u001b[0m\u001b[0m\n\u001b[0m\u001b[1;32m    851\u001b[0m \u001b[0;34m\u001b[0m\u001b[0m\n\u001b[1;32m    852\u001b[0m         \u001b[0;32mreturn\u001b[0m \u001b[0mself\u001b[0m\u001b[0;34m.\u001b[0m\u001b[0m_apply\u001b[0m\u001b[0;34m(\u001b[0m\u001b[0mconvert\u001b[0m\u001b[0;34m)\u001b[0m\u001b[0;34m\u001b[0m\u001b[0;34m\u001b[0m\u001b[0m\n",
      "\u001b[0;31mRuntimeError\u001b[0m: CUDA error: out of memory\nCUDA kernel errors might be asynchronously reported at some other API call,so the stacktrace below might be incorrect.\nFor debugging consider passing CUDA_LAUNCH_BLOCKING=1."
     ]
    }
   ],
   "source": [
    "print(\"train: word-publaynet, test: word\")\n",
    "precision, recall, f1 = evaluate_models(\"word-publaynet\", \"word\", \"X101\", threshold=thres, take_the_table_bank_model = False)\n",
    "print(\"Precision: \", precision*100)\n",
    "print(\"Recall: \", recall*100)\n",
    "print(\"F1: \", f1*100)\n",
    "\n",
    "print(\"-----\")\n",
    "print(\"train: word-publaynet, test: latex\")\n",
    "precision, recall, f1 = evaluate_models(\"word-publaynet\", \"latex\", \"X101\", threshold=thres, take_the_table_bank_model = False)\n",
    "print(\"Precision: \", precision*100)\n",
    "print(\"Recall: \", recall*100)\n",
    "print(\"F1: \", f1*100)\n",
    "\n",
    "print(\"-----\")\n",
    "print(\"train: word-publaynet, test: publaynet\")\n",
    "precision, recall, f1 = evaluate_models(\"word-publaynet\", \"publaynet\", \"X101\", threshold=thres, take_the_table_bank_model = False)\n",
    "print(\"Precision: \", precision*100)\n",
    "print(\"Recall: \", recall*100)\n",
    "print(\"F1: \", f1*100)\n",
    "\n",
    "print(\"-----\")\n",
    "print(\"train: word-publaynet, test: word-latex\")\n",
    "precision, recall, f1 = evaluate_models(\"word-publaynet\", \"word-latex\", \"X101\", threshold=thres, take_the_table_bank_model = False)\n",
    "print(\"Precision: \", precision*100)\n",
    "print(\"Recall: \", recall*100)\n",
    "print(\"F1: \", f1*100)\n",
    "\n",
    "print(\"-----\")\n",
    "print(\"train: word-publaynet, test: word-latex\")\n",
    "precision, recall, f1 = evaluate_models(\"word-publaynet\", \"word-latex-publaynet\", \"X101\", threshold=thres, take_the_table_bank_model = False)\n",
    "print(\"Precision: \", precision*100)\n",
    "print(\"Recall: \", recall*100)\n",
    "print(\"F1: \", f1*100)"
   ]
  },
  {
   "cell_type": "markdown",
   "id": "ef5577a9",
   "metadata": {},
   "source": [
    "# Making average from different 1k samples"
   ]
  },
  {
   "cell_type": "code",
   "execution_count": null,
   "id": "a3071cf6",
   "metadata": {},
   "outputs": [],
   "source": [
    "#z = 2.576\n",
    "#n = 10\n",
    "#ME = z * (np.std(precision_table)/np.sqrt(n))"
   ]
  },
  {
   "cell_type": "code",
   "execution_count": null,
   "id": "008a7eca",
   "metadata": {},
   "outputs": [],
   "source": []
  },
  {
   "cell_type": "code",
   "execution_count": null,
   "id": "cd104422",
   "metadata": {},
   "outputs": [],
   "source": [
    "precision_table = []\n",
    "recall_table = []\n",
    "f1_table = []\n",
    "\n",
    "for i in range(10):\n",
    "    precision, recall, f1 = evaluate_models(\"word\", \"word\", \"X101\", threshold=0.975, take_only_1k=\"random\")\n",
    "    precision_table.append(precision)\n",
    "    recall_table.append(recall)\n",
    "    f1_table.append(f1)\n",
    "\n",
    "precision_table = np.array(precision_table) * 100\n",
    "recall_table = np.array(recall_table) * 100\n",
    "f1_table = np.array(f1_table) * 100\n",
    "\n",
    "print(print(\"[\",\"{:.2f}\".format(round(min(precision_table), 2)),\", \", \"{:.2f}\".format(round(max(precision_table), 2)),\"]\", sep=\"\"))\n",
    "print()\n",
    "print(print(\"[\",\"{:.2f}\".format(round(min(recall_table), 2)),\", \", \"{:.2f}\".format(round(max(recall_table), 2)),\"]\", sep=\"\"))\n",
    "print(print(\"[\",\"{:.2f}\".format(round(min(f1_table), 2)),\", \", \"{:.2f}\".format(round(max(f1_table), 2)),\"]\", sep=\"\"))"
   ]
  },
  {
   "cell_type": "code",
   "execution_count": null,
   "id": "bcbb314b",
   "metadata": {},
   "outputs": [],
   "source": [
    "print(\"train: word, test: latex\")\n",
    "\n",
    "precision_table = []\n",
    "recall_table = []\n",
    "f1_table = []\n",
    "\n",
    "for i in range(10):\n",
    "    precision, recall, f1 = evaluate_models(\"word-latex\", \"latex\", \"X101\", threshold=0.90, take_only_1k=\"random\")\n",
    "    precision_table.append(precision)\n",
    "    recall_table.append(recall)\n",
    "    f1_table.append(f1)\n",
    "\n",
    "precision_table = np.array(precision_table) * 100\n",
    "recall_table = np.array(recall_table) * 100\n",
    "f1_table = np.array(f1_table) * 100\n",
    "\n",
    "print(print(\"[\",\"{:.2f}\".format(round(min(precision_table), 2)),\", \", \"{:.2f}\".format(round(max(precision_table), 2)),\"]\", sep=\"\"))\n",
    "print(print(\"[\",\"{:.2f}\".format(round(min(recall_table), 2)),\", \", \"{:.2f}\".format(round(max(recall_table), 2)),\"]\", sep=\"\"))\n",
    "print(print(\"[\",\"{:.2f}\".format(round(min(f1_table), 2)),\", \", \"{:.2f}\".format(round(max(f1_table), 2)),\"]\", sep=\"\"))"
   ]
  },
  {
   "cell_type": "code",
   "execution_count": null,
   "id": "544bd06d",
   "metadata": {},
   "outputs": [],
   "source": [
    "print(\"train: word, test: word-latex\")\n",
    "\n",
    "precision_table = []\n",
    "recall_table = []\n",
    "f1_table = []\n",
    "\n",
    "for i in range(10):\n",
    "    precision, recall, f1 = evaluate_models(\"word-latex\", \"word-latex\", \"X101\", threshold=0.90, take_only_1k=\"random\")\n",
    "    precision_table.append(precision)\n",
    "    recall_table.append(recall)\n",
    "    f1_table.append(f1)\n",
    "\n",
    "precision_table = np.array(precision_table) * 100\n",
    "recall_table = np.array(recall_table) * 100\n",
    "f1_table = np.array(f1_table) * 100\n",
    "\n",
    "print(print(\"[\",\"{:.2f}\".format(round(min(precision_table), 2)),\", \", \"{:.2f}\".format(round(max(precision_table), 2)),\"]\", sep=\"\"))\n",
    "print(print(\"[\",\"{:.2f}\".format(round(min(recall_table), 2)),\", \", \"{:.2f}\".format(round(max(recall_table), 2)),\"]\", sep=\"\"))\n",
    "print(print(\"[\",\"{:.2f}\".format(round(min(f1_table), 2)),\", \", \"{:.2f}\".format(round(max(f1_table), 2)),\"]\", sep=\"\"))"
   ]
  },
  {
   "cell_type": "code",
   "execution_count": null,
   "id": "6c0958f2",
   "metadata": {},
   "outputs": [],
   "source": [
    "print(\"train: latex, test: word\")\n",
    "\n",
    "precision_table = []\n",
    "recall_table = []\n",
    "f1_table = []\n",
    "\n",
    "for i in range(10):\n",
    "    precision, recall, f1 = evaluate_models(\"word-latex\", \"word\", \"X152\", threshold=0.90, take_only_1k=\"random\")\n",
    "    precision_table.append(precision)\n",
    "    recall_table.append(recall)\n",
    "    f1_table.append(f1)\n",
    "\n",
    "precision_table = np.array(precision_table) * 100\n",
    "recall_table = np.array(recall_table) * 100\n",
    "f1_table = np.array(f1_table) * 100\n",
    "\n",
    "print(print(\"[\",\"{:.2f}\".format(round(min(precision_table), 2)),\", \", \"{:.2f}\".format(round(max(precision_table), 2)),\"]\", sep=\"\"))\n",
    "print(print(\"[\",\"{:.2f}\".format(round(min(recall_table), 2)),\", \", \"{:.2f}\".format(round(max(recall_table), 2)),\"]\", sep=\"\"))\n",
    "print(print(\"[\",\"{:.2f}\".format(round(min(f1_table), 2)),\", \", \"{:.2f}\".format(round(max(f1_table), 2)),\"]\", sep=\"\"))"
   ]
  },
  {
   "cell_type": "code",
   "execution_count": null,
   "id": "db6cf03a",
   "metadata": {},
   "outputs": [],
   "source": [
    "print(\"train: latex, test: latex\")\n",
    "\n",
    "precision_table = []\n",
    "recall_table = []\n",
    "f1_table = []\n",
    "\n",
    "for i in range(10):\n",
    "    precision, recall, f1 = evaluate_models(\"word-latex\", \"latex\", \"X152\", threshold=0.90, take_the_table_bank_model = True, take_only_1k=\"random\")\n",
    "    precision_table.append(precision)\n",
    "    recall_table.append(recall)\n",
    "    f1_table.append(f1)\n",
    "\n",
    "precision_table = np.array(precision_table) * 100\n",
    "recall_table = np.array(recall_table) * 100\n",
    "f1_table = np.array(f1_table) * 100\n",
    "\n",
    "print(print(\"[\",\"{:.2f}\".format(round(min(precision_table), 2)),\", \", \"{:.2f}\".format(round(max(precision_table), 2)),\"]\", sep=\"\"))\n",
    "print(print(\"[\",\"{:.2f}\".format(round(min(recall_table), 2)),\", \", \"{:.2f}\".format(round(max(recall_table), 2)),\"]\", sep=\"\"))\n",
    "print(print(\"[\",\"{:.2f}\".format(round(min(f1_table), 2)),\", \", \"{:.2f}\".format(round(max(f1_table), 2)),\"]\", sep=\"\"))"
   ]
  },
  {
   "cell_type": "code",
   "execution_count": null,
   "id": "4b506745",
   "metadata": {},
   "outputs": [],
   "source": [
    "print(\"train: latex, test: word-latex\")\n",
    "\n",
    "precision_table = []\n",
    "recall_table = []\n",
    "f1_table = []\n",
    "\n",
    "for i in range(10):\n",
    "    precision, recall, f1 = evaluate_models(\"word-latex\", \"word-latex\", \"X152\", threshold=0.90, take_only_1k=\"random\")\n",
    "    precision_table.append(precision)\n",
    "    recall_table.append(recall)\n",
    "    f1_table.append(f1)\n",
    "\n",
    "precision_table = np.array(precision_table) * 100\n",
    "recall_table = np.array(recall_table) * 100\n",
    "f1_table = np.array(f1_table) * 100\n",
    "\n",
    "print(print(\"[\",\"{:.2f}\".format(round(min(precision_table), 2)),\", \", \"{:.2f}\".format(round(max(precision_table), 2)),\"]\", sep=\"\"))\n",
    "print(print(\"[\",\"{:.2f}\".format(round(min(recall_table), 2)),\", \", \"{:.2f}\".format(round(max(recall_table), 2)),\"]\", sep=\"\"))\n",
    "print(print(\"[\",\"{:.2f}\".format(round(min(f1_table), 2)),\", \", \"{:.2f}\".format(round(max(f1_table), 2)),\"]\", sep=\"\"))"
   ]
  },
  {
   "cell_type": "markdown",
   "metadata": {},
   "source": [
    "# Make Precision-Recall curve"
   ]
  },
  {
   "cell_type": "code",
   "execution_count": null,
   "id": "5ef6cd9f",
   "metadata": {},
   "outputs": [],
   "source": [
    "threshold_pred = [0.6, 0.8, 0.85, 0.9, 0.93, 0.95, 0.96, 0.97, 0.98]\n",
    "threshold_string = [\"60.0 \\%\", \"80.0 \\%\", \"85.0 \\%\", \"90.0 \\%\", \"93.0 \\%\", \"95.0 \\%\", \"96.0 \\%\", \"97.0 \\%\", \"98.0 \\%\"]"
   ]
  },
  {
   "cell_type": "code",
   "execution_count": null,
   "id": "04ab3d7f",
   "metadata": {},
   "outputs": [],
   "source": [
    "def produce_threshold_variation(train, test):\n",
    "    \n",
    "    recall_with_threshold = []\n",
    "    precision_with_threshold = []\n",
    "\n",
    "    for threshold_ind, threshold in enumerate(threshold_pred):\n",
    "\n",
    "        precision, recall, f1 = evaluate_models(train, test, \"X101\", threshold=threshold)\n",
    "\n",
    "        precision_with_threshold.append(precision)\n",
    "        recall_with_threshold.append(recall)\n",
    "\n",
    "    with open(\"new_image_curve/X101_recall_with_threshold_\" + train + \"_\" + test + \".pkl\", 'wb') as f:\n",
    "        pickle.dump(recall_with_threshold, f)\n",
    "\n",
    "    with open(\"new_image_curve/X101_precision_with_threshold_\" + train + \"_\" + test + \".pkl\", 'wb') as f:\n",
    "        pickle.dump(precision_with_threshold, f)\n",
    "\n",
    "\n",
    "\n",
    "def make_precision_recall_curve(train, test, theory_precision, theory_recall):\n",
    "    with open(\"new_image_curve/X101_precision_with_threshold_\" + train + \"_\" + test + \".pkl\", 'rb') as f:\n",
    "        precision_with_threshold = np.array(pickle.load(f))*100\n",
    "    with open(\"new_image_curve/X101_recall_with_threshold_\" + train + \"_\" + test + \".pkl\", 'rb') as f:\n",
    "        recall_with_threshold = np.array(pickle.load(f))*100\n",
    "\n",
    "    print(train)\n",
    "    print(test)  \n",
    "\n",
    "    fig = plt.figure(figsize=(13, 9))\n",
    "\n",
    "    plt.rcParams['text.usetex']=True\n",
    "    plt.rc({\n",
    "        \"font.family\": \"serif\",\n",
    "        \"font.serif\": [\"Palatino\"]})\n",
    "\n",
    "    colors_choices = [\"#f81aa1\", \"#3cc84b\", \"#6a2020\", \"#ff8d00\", \"#ff0000\", \"#bc21e9\", \"#1798e7\", \"#09701d\", \"#2af0f0\"]\n",
    "\n",
    "    plt.plot(recall_with_threshold, precision_with_threshold, '--', color=\"k\")\n",
    "\n",
    "    for thresh_ind, threshold in enumerate(threshold_pred):\n",
    "        plt.plot(recall_with_threshold[thresh_ind], precision_with_threshold[thresh_ind], 'o', markersize=10, color=colors_choices[thresh_ind], label=threshold)\n",
    "\n",
    "    plt.plot(theory_recall, theory_precision, 'o', markersize=10, color=\"k\", label=\"paper\")\n",
    "\n",
    "    fig.patch.set_facecolor('white')\n",
    "    plt.grid()\n",
    "    plt.xlabel('Recall', fontsize=15)\n",
    "    plt.ylabel('Precision', fontsize=15)\n",
    "    plt.xticks(fontsize = 17)\n",
    "    plt.yticks(fontsize = 17)\n",
    "    #plt.xlim(min(recall_with_threshold)-0.009, 1.0)\n",
    "    #plt.ylim(min(precision_with_threshold)-0.02, 1.0)\n",
    "    plt.title(\"train set: \" + train + \"\\ntest set: \" + test, fontsize=17)\n",
    "    plt.legend(prop={'size': 14}, title=\"Prediction threshold\", title_fontsize=14)\n",
    "    plt.savefig(\"new_image_curve/X101-precision_\" + train + \"_\" + test + \".png\")\n",
    "    plt.show()\n"
   ]
  },
  {
   "cell_type": "markdown",
   "id": "b5ece7d7",
   "metadata": {},
   "source": [
    "#### Produce results"
   ]
  },
  {
   "cell_type": "code",
   "execution_count": null,
   "id": "51014b6e",
   "metadata": {},
   "outputs": [],
   "source": [
    "# word\n",
    "#produce_threshold_variation(\"word\", \"word\")\n",
    "#produce_threshold_variation(\"word\", \"latex\")\n",
    "produce_threshold_variation(\"word\", \"word-latex\")\n",
    "# latex\n",
    "#produce_threshold_variation(\"latex\", \"word\")\n",
    "produce_threshold_variation(\"latex\", \"latex\")\n",
    "produce_threshold_variation(\"latex\", \"word-latex\")\n",
    "# word-latex\n",
    "produce_threshold_variation(\"word-latex\", \"word\")\n",
    "produce_threshold_variation(\"word-latex\", \"latex\")\n",
    "#produce_threshold_variation(\"word-latex\", \"word-latex\")"
   ]
  },
  {
   "cell_type": "markdown",
   "id": "c3e853d0",
   "metadata": {},
   "source": [
    "#### Make graphs"
   ]
  },
  {
   "cell_type": "code",
   "execution_count": null,
   "id": "eec37956",
   "metadata": {},
   "outputs": [],
   "source": [
    "make_precision_recall_curve(\"word\", \"word\",94.96,83.88)"
   ]
  },
  {
   "cell_type": "code",
   "execution_count": null,
   "id": "1c97e8ab",
   "metadata": {},
   "outputs": [],
   "source": [
    "# word\n",
    "make_precision_recall_curve(\"word\", \"word\",94.96,83.88)\n",
    "make_precision_recall_curve(\"word\", \"latex\",99.02,59.48)\n",
    "make_precision_recall_curve(\"word\", \"word-latex\", 95.94, 76.07)\n",
    "# latex\n",
    "make_precision_recall_curve(\"latex\", \"word\",82.88,93.95)\n",
    "make_precision_recall_curve(\"latex\", \"latex\", 98.54, 97.60)\n",
    "make_precision_recall_curve(\"latex\", \"word-latex\", 87.44, 95.12)\n",
    "# word-latex\n",
    "make_precision_recall_curve(\"word-latex\", \"word\", 95.57, 84.03)\n",
    "make_precision_recall_curve(\"word-latex\", \"latex\", 98.86, 96.94)\n",
    "make_precision_recall_curve(\"word-latex\", \"word-latex\",96.70,88.17)"
   ]
  },
  {
   "cell_type": "markdown",
   "id": "cabd84fe",
   "metadata": {},
   "source": [
    "# Code that set up the 1k test set "
   ]
  },
  {
   "cell_type": "code",
   "execution_count": null,
   "id": "e9a27bd3",
   "metadata": {},
   "outputs": [],
   "source": [
    "from get_models_and_set import get_test_data_latex, get_test_data_word, get_test_data_publaynet"
   ]
  },
  {
   "cell_type": "code",
   "execution_count": null,
   "id": "12ae6eab",
   "metadata": {},
   "outputs": [],
   "source": [
    "path_data = \"/data/rali5/Tmp/yockelle/TableBank/TableBank/\"\n",
    "\n",
    "test_data = []\n",
    "word = get_test_data_word()\n",
    "test_data.extend(random.sample(word, 1000))\n",
    "out_file = open(path_data + \"test_data_word_1k.json\", \"w\")\n",
    "json.dump(test_data, out_file, indent = 6)\n",
    "out_file.close()\n",
    "\n",
    "test_data = []\n",
    "latex = get_test_data_latex()\n",
    "test_data.extend(random.sample(latex, 1000))\n",
    "out_file = open(path_data + \"test_data_latex_1k.json\", \"w\")\n",
    "json.dump(test_data, out_file, indent = 6)\n",
    "out_file.close()\n",
    "\n",
    "test_data = []\n",
    "publaynet = get_test_data_publaynet()\n",
    "test_data.extend(random.sample(publaynet, 1000))\n",
    "out_file = open(path_data + \"test_data_publaynet_1k.json\", \"w\")\n",
    "json.dump(test_data, out_file, indent = 6)\n",
    "out_file.close()\n",
    "\n",
    "#latex = get_test_data_latex()\n",
    "#publaynet = get_test_data_publaynet()"
   ]
  },
  {
   "attachments": {},
   "cell_type": "markdown",
   "id": "342b5a62",
   "metadata": {},
   "source": [
    "# Save the predicted and ground truth in right format for Metric Tool"
   ]
  },
  {
   "cell_type": "code",
   "execution_count": 4,
   "id": "2aee5975",
   "metadata": {},
   "outputs": [
    {
     "name": "stdout",
     "output_type": "stream",
     "text": [
      "./output/word-publaynet/ model_final.pth\n",
      "word\n",
      "1000\n"
     ]
    },
    {
     "name": "stderr",
     "output_type": "stream",
     "text": [
      "/u/yockelle/anaconda3/lib/python3.8/site-packages/torch/_tensor.py:575: UserWarning: floor_divide is deprecated, and will be removed in a future version of pytorch. It currently rounds toward 0 (like the 'trunc' function NOT 'floor'). This results in incorrect rounding for negative values.\n",
      "To keep the current behavior, use torch.div(a, b, rounding_mode='trunc'), or for actual floor division, use torch.div(a, b, rounding_mode='floor'). (Triggered internally at  ../aten/src/ATen/native/BinaryOps.cpp:467.)\n",
      "  return torch.floor_divide(self, other)\n"
     ]
    },
    {
     "name": "stdout",
     "output_type": "stream",
     "text": [
      "Precision  0.8294558069730884\n",
      "Recall  0.9675706464856043\n",
      "F1  0.893205650745461\n",
      "-------------\n",
      "latex\n",
      "1000\n",
      "Precision  0.959391453008464\n",
      "Recall  0.9156470752240172\n",
      "F1  0.9370089891115044\n",
      "-------------\n",
      "publaynet\n",
      "1000\n",
      "Precision  0.9580330409045528\n",
      "Recall  0.961083774407627\n",
      "F1  0.9595559828493162\n",
      "-------------\n",
      "word-latex\n",
      "2000\n",
      "Precision  0.8643025064656163\n",
      "Recall  0.9515081746466146\n",
      "F1  0.905811281786113\n",
      "-------------\n",
      "word-publaynet\n",
      "2000\n",
      "Precision  0.8849561875667812\n",
      "Recall  0.9645285025788651\n",
      "F1  0.9230305835886328\n",
      "-------------\n",
      "latex-publaynet\n",
      "2000\n",
      "Precision  0.9584751672729485\n",
      "Recall  0.9457938616813432\n",
      "F1  0.9520922894792431\n",
      "-------------\n",
      "word-latex-publaynet\n",
      "3000\n",
      "Precision  0.8977871301682242\n",
      "Recall  0.9551359582757187\n",
      "F1  0.9255740578212097\n",
      "-------------\n"
     ]
    }
   ],
   "source": [
    "train_possibilities = [\"word-publaynet\"]\n",
    "test_possibilities = [\"word\", \"latex\", \"publaynet\", \"word-latex\",\"word-publaynet\" , \"latex-publaynet\", \"word-latex-publaynet\"]\n",
    "#test_possibilities = [\"publaynet\"]\n",
    "threshold = 0.9\n",
    "\n",
    "for train_type_name in train_possibilities:\n",
    "\n",
    "  type_ = \"/\" + train_type_name + \"/\"\n",
    "  train_type = train_type_name\n",
    "\n",
    "  predictor = get_model(train_type_name, \"X101\", tablebank_model = False)\n",
    "\n",
    "  for test_type_name in test_possibilities:\n",
    "    print(test_type_name)\n",
    "\n",
    "    test_latex_predictions = {}\n",
    "    test_latex_truth = {}\n",
    "\n",
    "    test_data = []\n",
    "\n",
    "    if \"word\" in test_type_name:\n",
    "      test_data.extend(get_1k_test_set(\"word\"))\n",
    "    if \"latex\" in test_type_name:\n",
    "      test_data.extend(get_1k_test_set(\"latex\"))\n",
    "    if \"publaynet\" in test_type_name:\n",
    "      test_data.extend(get_1k_test_set(\"publaynet\"))\n",
    "\n",
    "    print(len(test_data))\n",
    "    test_type = test_type_name\n",
    "    \n",
    "    count_pred = 0\n",
    "    count_truth = 0\n",
    "\n",
    "    all_image_preds = []\n",
    "    all_annotations_preds = []\n",
    "\n",
    "    all_image_truth = []\n",
    "    all_annotations_truth = []\n",
    "\n",
    "    sum_numerator = 0\n",
    "    sum_numerator_old = 0\n",
    "    sum_denominator_precision = 0\n",
    "    sum_denominator_recall = 0\n",
    "\n",
    "    for index, image_dict in enumerate(test_data):\n",
    "      one_image_pred = {}\n",
    "      one_image_truth = {}\n",
    "\n",
    "      try: \n",
    "        image_name = \"/data/rali5/Tmp/yockelle/TableBank/\" + image_dict[\"file_name\"]  \n",
    "        im = cv2.imread(image_name).shape\n",
    "      except:\n",
    "        image_name = image_dict[\"file_name\"]\n",
    "        im = cv2.imread(image_name).shape\n",
    "      #image_name = \"/data/rali5/Tmp/yockelle/PubLayNet/\" + image_dict[\"file_name\"]\n",
    "      #image_name = image_dict[\"file_name\"]\n",
    "      only_name = image_dict[\"file_name\"].split(\"/\")[-1]\n",
    "\n",
    "      truths_boxes = []\n",
    "      preds_boxes = []\n",
    "\n",
    "      problem = False\n",
    "\n",
    "      # ADD TRUTH\n",
    "      for annot in image_dict[\"annotations\"]:\n",
    "        #if scores_detectron[j]>threshold:\n",
    "        p = annot[\"bbox\"]\n",
    "        x1 = p[0]\n",
    "        y1 = p[1]\n",
    "        w = p[2]\n",
    "        h = p[3]\n",
    "        x2 = p[0] + w\n",
    "        y2 = p[1] + h\n",
    "        if y1 == y2 or y2<y1:\n",
    "          problem = True\n",
    "          break\n",
    "\n",
    "        if not(problem):\n",
    "          \n",
    "          one_annotations = {}\n",
    "          one_annotations[\"id\"] = count_truth\n",
    "          one_annotations[\"segmentation\"] = []\n",
    "          one_annotations[\"area\"] = float(w * h)\n",
    "          one_annotations[\"iscrowd\"] = 0\n",
    "          one_annotations[\"ignore\"] = 0\n",
    "          one_annotations[\"image_id\"] = index\n",
    "          one_annotations[\"bbox\"] = [float(pp) for pp in p]\n",
    "          one_annotations[\"category_id\"] = 0\n",
    "\n",
    "          all_annotations_truth.append(one_annotations)\n",
    "          count_truth += 1\n",
    "\n",
    "          truths_boxes.append([x1,y1,x2,y2])\n",
    "\n",
    "      if problem:\n",
    "        continue\n",
    "\n",
    "      if problem:\n",
    "        print(\"wtf\")\n",
    "\n",
    "      one_image_truth[\"id\"] = index\n",
    "      one_image_truth[\"file_name\"] = only_name\n",
    "      one_image_truth[\"width\"] = image_dict[\"width\"]\n",
    "      one_image_truth[\"height\"] = image_dict[\"height\"]\n",
    "      all_image_truth.append(one_image_truth)\n",
    "      \n",
    "\n",
    "      # ADD PREDS\n",
    "      im = cv2.imread(image_name)\n",
    "      outputs = predictor(im)\n",
    "      predictions_detectron = outputs[\"instances\"].pred_boxes.tensor.cpu().numpy()\n",
    "      scores_detectron = outputs[\"instances\"].scores.cpu().numpy()\n",
    "\n",
    "      for j, p in enumerate(predictions_detectron):\n",
    "        \n",
    "        x1 = p[0]\n",
    "        y1 = p[1]\n",
    "        x2 = p[2]\n",
    "        y2 = p[3]\n",
    "        w = x2-x1\n",
    "        h = y2-y1\n",
    "        #x2 = p[0] + w\n",
    "        #y2 = p[1] + h\n",
    "        \n",
    "        one_annotations = {}\n",
    "        one_annotations[\"id\"] = count_pred\n",
    "        one_annotations[\"segmentation\"] = []\n",
    "        one_annotations[\"area\"] = float(w * h)\n",
    "        one_annotations[\"iscrowd\"] = 0\n",
    "        one_annotations[\"ignore\"] = 0\n",
    "        one_annotations[\"image_id\"] = index\n",
    "        one_annotations[\"bbox\"] = [float(pp) for pp in [x1,y1,w,h]]\n",
    "        one_annotations[\"category_id\"] = 0\n",
    "        one_annotations[\"score\"] = float(scores_detectron[j])\n",
    "\n",
    "        all_annotations_preds.append(one_annotations)\n",
    "        count_pred += 1\n",
    "\n",
    "        if scores_detectron[j]>threshold:\n",
    "          preds_boxes.append([x1,y1,x2,y2])\n",
    "\n",
    "      one_image_pred[\"id\"] = index\n",
    "      one_image_pred[\"file_name\"] = only_name\n",
    "      one_image_pred[\"width\"] = image_dict[\"width\"]\n",
    "      one_image_pred[\"height\"] = image_dict[\"height\"]\n",
    "\n",
    "      all_image_preds.append(one_image_pred)\n",
    "\n",
    "      result = metric_table_bank_union(np.array(truths_boxes), np.array(preds_boxes))\n",
    "      numerator, denominator_precision, denominator_recall, old_way_area_union = result\n",
    "\n",
    "      sum_numerator += numerator\n",
    "      sum_denominator_precision += denominator_precision\n",
    "      sum_denominator_recall += denominator_recall\n",
    "\n",
    "\n",
    "    # ADD TRUTHS\n",
    "    test_latex_truth[\"images\"] = all_image_truth\n",
    "    test_latex_truth[\"annotations\"] = all_annotations_truth\n",
    "    test_latex_truth[\"categories\"] = [{\"id\": 0, \"name\": \"table\", \"supercategory\": \"none\"}]\n",
    "\n",
    "    path_truth = \"metric_tool_data/train_\"+train_type+\"/test_\"+test_type+\"/truth\"\n",
    "    if not path.exists(path_truth):\n",
    "      os.makedirs(path_truth)\n",
    "    out_file = open(path_truth + \"/test_\"+test_type+\"_truth.json\", \"w\")\n",
    "    json.dump(test_latex_truth, out_file, indent = 6)\n",
    "    out_file.close()\n",
    "      \n",
    "    # ADD PREDS\n",
    "    test_latex_predictions[\"images\"] = all_image_preds\n",
    "    test_latex_predictions[\"annotations\"] = all_annotations_preds\n",
    "    test_latex_predictions[\"categories\"] = [{\"id\": 0, \"name\": \"table\", \"supercategory\": \"none\"}]\n",
    "\n",
    "    path_pred = \"metric_tool_data/train_\"+train_type+\"/test_\"+test_type+\"/preds\"\n",
    "    if not path.exists(path_pred):\n",
    "      os.makedirs(path_pred)\n",
    "    out_file = open(path_pred + \"/test_\"+test_type+\"_preds.json\", \"w\")\n",
    "    json.dump(test_latex_predictions, out_file, indent = 6)\n",
    "    out_file.close()\n",
    "\n",
    "    precision = sum_numerator/sum_denominator_precision\n",
    "    recall = sum_numerator/sum_denominator_recall\n",
    "    f1 = (2 * precision * recall) / (precision + recall)\n",
    "\n",
    "    print(\"Precision \", precision)\n",
    "    print(\"Recall \", recall)\n",
    "    print(\"F1 \", f1)\n",
    "    print(\"-------------\")"
   ]
  },
  {
   "cell_type": "code",
   "execution_count": null,
   "id": "c21dd449",
   "metadata": {},
   "outputs": [],
   "source": []
  }
 ],
 "metadata": {
  "kernelspec": {
   "display_name": "base",
   "language": "python",
   "name": "python3"
  },
  "language_info": {
   "codemirror_mode": {
    "name": "ipython",
    "version": 3
   },
   "file_extension": ".py",
   "mimetype": "text/x-python",
   "name": "python",
   "nbconvert_exporter": "python",
   "pygments_lexer": "ipython3",
   "version": "3.8.8"
  },
  "vscode": {
   "interpreter": {
    "hash": "608c06b448c1de9fbfe61db40b999c2492eeda40b619a01541314540d82445de"
   }
  }
 },
 "nbformat": 4,
 "nbformat_minor": 5
}
