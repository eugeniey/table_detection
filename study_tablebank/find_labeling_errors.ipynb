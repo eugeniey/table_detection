{
 "cells": [
  {
   "cell_type": "code",
   "execution_count": 2,
   "metadata": {},
   "outputs": [],
   "source": [
    "import cv2\n",
    "import numpy as np\n",
    "from ..utils.metric_tablebank_my_implementation import metric_table_bank_union\n",
    "from ..utils.get_models_and_set import get_model, get_1k_test_set, get_test_data_latex, get_test_data_word, get_test_data_publaynet"
   ]
  },
  {
   "cell_type": "markdown",
   "metadata": {},
   "source": [
    "We save all the image with less than 5% F1 score to explore"
   ]
  },
  {
   "cell_type": "code",
   "execution_count": 5,
   "metadata": {},
   "outputs": [
    {
     "name": "stdout",
     "output_type": "stream",
     "text": [
      "./output/word/ model_final.pth\n",
      "5719\n"
     ]
    }
   ],
   "source": [
    "take_the_table_bank_model = False\n",
    "size_model = \"\"\n",
    "train_type_name = \"word\"\n",
    "test_type_name = \"publaynet\"\n",
    "\n",
    "sum_numerator = 0\n",
    "sum_denominator_precision = 0\n",
    "sum_denominator_recall = 0\n",
    "\n",
    "predictor = get_model(train_type_name, size_model, tablebank_model = take_the_table_bank_model)\n",
    "\n",
    "test_data = []\n",
    "# Take the WORD data\n",
    "if \"word\" in test_type_name:\n",
    "    word = get_test_data_word()\n",
    "    test_data.extend(word)\n",
    "# Take the LATEX data\n",
    "if \"latex\" in test_type_name:\n",
    "    latex = get_test_data_latex()\n",
    "    test_data.extend(latex)\n",
    "# Take the PUBLAYNET data\n",
    "if \"publaynet\" in test_type_name:\n",
    "    publaynet = get_test_data_publaynet()\n",
    "    test_data.extend(publaynet)\n",
    "\n",
    "print(len(test_data))\n",
    "for i in range(len(test_data)):\n",
    "\n",
    "    image_dict = test_data[i]\n",
    "    try: \n",
    "        image_name = \"/data/rali5/Tmp/yockelle/TableBank/\" + image_dict[\"file_name\"]  \n",
    "        im = cv2.imread(image_name)\n",
    "        does_shape_work = im.shape\n",
    "    except:\n",
    "        image_name = image_dict[\"file_name\"]\n",
    "        im = cv2.imread(image_name)\n",
    "\n",
    "    outputs = predictor(im)\n",
    "\n",
    "    predictions_detectron = outputs[\"instances\"].pred_boxes.tensor.cpu().numpy()\n",
    "    scores_detectron = outputs[\"instances\"].scores.cpu().numpy()\n",
    "    predictions_with_threshold = []\n",
    "    for j, p in enumerate(predictions_detectron):\n",
    "        if scores_detectron[j]>0.9:\n",
    "            predictions_with_threshold.append(p)\n",
    "    predictions_with_threshold = np.array(predictions_with_threshold)\n",
    "\n",
    "    # Get the ground truth\n",
    "    bbox_ground_truth = []\n",
    "    truth = image_dict[\"annotations\"]\n",
    "    for t in truth:\n",
    "        x_min = t[\"bbox\"][0]\n",
    "        y_min = t[\"bbox\"][1]\n",
    "        w = t[\"bbox\"][2]\n",
    "        h = t[\"bbox\"][3]\n",
    "        x_max = x_min + w\n",
    "        y_max = y_min + h\n",
    "        cv2.rectangle(im, (int(x_min), int(y_max)), (int(x_max), int(y_min)), (0,255,0), 3)\n",
    "        bbox_ground_truth.append([x_min, y_min, x_max, y_max])\n",
    "\n",
    "    # get metrics Detectron\n",
    "    metric_result = metric_table_bank_union(bbox_ground_truth, predictions_with_threshold)\n",
    "\n",
    "    if metric_result != None:\n",
    "        numerator, denominator_precision, denominator_recall, old_way_area_union = metric_result\n",
    "\n",
    "        sum_numerator += numerator\n",
    "        sum_denominator_precision += denominator_precision\n",
    "        sum_denominator_recall += denominator_recall\n",
    "\n",
    "        if denominator_precision>0:\n",
    "            precision = numerator/denominator_precision\n",
    "        else:\n",
    "            precision = 0\n",
    "        if denominator_recall > 0:\n",
    "            recall = numerator/denominator_recall\n",
    "        else:\n",
    "            recall = 0\n",
    "        if recall==0 and precision==0:\n",
    "            f1=0\n",
    "        else:\n",
    "            f1 = (2 * precision * recall) / (precision + recall)\n",
    "        \n",
    "        if f1 <= 0.05:\n",
    "            only_name = image_name.split(\"/\")[-1]\n",
    "            cv2.imwrite(\"images_problem_\"+ test_type_name +\"/\" + only_name + \".png\", im)\n",
    "\n",
    "#print(\"Precision \", precision)\n",
    "#print(\"Recall \", recall)\n",
    "#print(\"F1 \", f1)"
   ]
  }
 ],
 "metadata": {
  "kernelspec": {
   "display_name": "base",
   "language": "python",
   "name": "python3"
  },
  "language_info": {
   "codemirror_mode": {
    "name": "ipython",
    "version": 3
   },
   "file_extension": ".py",
   "mimetype": "text/x-python",
   "name": "python",
   "nbconvert_exporter": "python",
   "pygments_lexer": "ipython3",
   "version": "3.8.8 (default, Apr 13 2021, 19:58:26) \n[GCC 7.3.0]"
  },
  "orig_nbformat": 4,
  "vscode": {
   "interpreter": {
    "hash": "608c06b448c1de9fbfe61db40b999c2492eeda40b619a01541314540d82445de"
   }
  }
 },
 "nbformat": 4,
 "nbformat_minor": 2
}
